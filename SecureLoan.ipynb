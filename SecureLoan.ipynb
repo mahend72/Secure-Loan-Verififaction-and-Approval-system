{
  "nbformat": 4,
  "nbformat_minor": 0,
  "metadata": {
    "colab": {
      "provenance": [],
      "authorship_tag": "ABX9TyNrtMiuOsFtzdstdKiFb7nQ",
      "include_colab_link": true
    },
    "kernelspec": {
      "name": "python3",
      "display_name": "Python 3"
    },
    "language_info": {
      "name": "python"
    }
  },
  "cells": [
    {
      "cell_type": "markdown",
      "metadata": {
        "id": "view-in-github",
        "colab_type": "text"
      },
      "source": [
        "<a href=\"https://colab.research.google.com/github/mahend72/Secure-Loan-Verififaction-and-Approval-system/blob/main/SecureLoan.ipynb\" target=\"_parent\"><img src=\"https://colab.research.google.com/assets/colab-badge.svg\" alt=\"Open In Colab\"/></a>"
      ]
    },
    {
      "cell_type": "markdown",
      "source": [
        "### **Information Gathering**"
      ],
      "metadata": {
        "id": "d_F9Yf4PZyui"
      }
    },
    {
      "cell_type": "code",
      "source": [
        "#Persional identifiable Information\n",
        "PII = {\n",
        "    \"Name\": \"Mahesh Gupta\",\n",
        "    \"Address\": \"Abc, Gurgaon, Delhi\",\n",
        "    \"Gender\" : \"male\",\n",
        "    \"DateOfBirth\": \"12/10/1991\",\n",
        "    \"PhoneNumber\": \"9898001123\"\n",
        "}\n",
        "\n",
        "#Biometric information\n",
        "\n",
        "bio_info = \"shldhsncxiof2178\"\n",
        "\n",
        "\n",
        "\n",
        "#Financial Information\n",
        "FI={\n",
        "    \"EmploymentStatus\": \"full time employee\",\n",
        "    \"Salary\": \"12000000\",\n",
        "    \"ExistingLoan\" : \"50000\",\n",
        "    \"Collateral\" : \"home\"\n",
        "}\n",
        "\n",
        "#Sensitive information\n",
        "SI ={\n",
        "    \"Gender\" :\"male\",\n",
        "    \"CasteCategory\" : \"Schedule Tribe\",\n",
        "    \"ReligiousBelief\" : \"Jain\",\n",
        "    \"SexualOrientation\": \"heterosexual\",\n",
        "    \"Racial\" : \"Northeast Indian\"\n",
        "}"
      ],
      "metadata": {
        "id": "lsGyVuQiaCQM"
      },
      "execution_count": null,
      "outputs": []
    },
    {
      "cell_type": "markdown",
      "source": [
        "### **Senstive Information format**"
      ],
      "metadata": {
        "id": "sSRpvRvS-q69"
      }
    },
    {
      "cell_type": "code",
      "source": [
        "\"\"\"\n",
        "Possible Categories\n",
        "Gender: {Male, Female, Transgender, Other}\n",
        "Caste Category: {Scheduled Tribe (ST), Scheduled Caste (SC), Other Backward Class (OBC), General (Unreserved), Economically Weaker Section (EWS), Other}\n",
        "Religious Belief: {Hindu, Muslim, Christian, Sikh, Jain, Buddhist, Parsi, Other}\n",
        "Sexual Orientation: {Heterosexual, Homosexual, Lesbian, Bisexual, Asexual, Other}\n",
        "Racial or Ethnic: {North Indian, South Indian, East Indian, West Indian, Kashmiri, Northeast Indian, Gujarati, Punjabi, Bengali, Other}\n",
        "\"\"\"\n",
        "\n",
        "\"\"\"\n",
        "Categories who can get benefits\n",
        "Gender: {Female, Transgender}\n",
        "Caste Category: {Scheduled Tribe (ST), Scheduled Caste (SC)}\n",
        "Religious Belief: {Muslim}\n",
        "Sexual Orientation: {}\n",
        "Racial or Ethnic: {Kashmiri, Northeast Indian}\n",
        "\"\"\""
      ],
      "metadata": {
        "colab": {
          "base_uri": "https://localhost:8080/",
          "height": 53
        },
        "id": "TNATbFLc-plQ",
        "outputId": "b56cc18a-0ce9-44de-8372-182e5b673923"
      },
      "execution_count": null,
      "outputs": [
        {
          "output_type": "execute_result",
          "data": {
            "text/plain": [
              "'\\nCategories who can get benefits\\nGender: {Female, Transgender}\\nCaste Category: {Scheduled Tribe (ST), Scheduled Caste (SC)}\\nReligious Belief: {Muslim}\\nSexual Orientation: {}\\nRacial or Ethnic: {Kashmiri, Northeast Indian}\\n'"
            ],
            "application/vnd.google.colaboratory.intrinsic+json": {
              "type": "string"
            }
          },
          "metadata": {},
          "execution_count": 2
        }
      ]
    },
    {
      "cell_type": "markdown",
      "source": [
        "### **Step 0: Key Pairs Generation**"
      ],
      "metadata": {
        "id": "Ak1laci8gf38"
      }
    },
    {
      "cell_type": "code",
      "source": [
        "from cryptography.hazmat.primitives import serialization\n",
        "from cryptography.hazmat.backends import default_backend\n",
        "from cryptography.hazmat.primitives.asymmetric import rsa\n",
        "\n",
        "def generate_rsa_key_pair():\n",
        "    # Generate RSA key pair\n",
        "    private_key = rsa.generate_private_key(\n",
        "        public_exponent=65537,  # Commonly used value for public exponent\n",
        "        key_size=2048,          # You can adjust the key size as needed\n",
        "        backend=default_backend()\n",
        "    )\n",
        "    public_key = private_key.public_key()\n",
        "\n",
        "    # Serialize keys to bytes\n",
        "    private_key_pem = private_key.private_bytes(\n",
        "        encoding=serialization.Encoding.PEM,\n",
        "        format=serialization.PrivateFormat.PKCS8,\n",
        "        encryption_algorithm=serialization.NoEncryption()\n",
        "    )\n",
        "\n",
        "    public_key_pem = public_key.public_bytes(\n",
        "        encoding=serialization.Encoding.PEM,\n",
        "        format=serialization.PublicFormat.SubjectPublicKeyInfo\n",
        "    )\n",
        "\n",
        "    return private_key_pem, public_key_pem"
      ],
      "metadata": {
        "id": "q3QPjYy-m87a"
      },
      "execution_count": null,
      "outputs": []
    },
    {
      "cell_type": "code",
      "source": [
        "# Step 0.1: Customer Key pair generation\n",
        "\n",
        "private_key, public_key = generate_rsa_key_pair()\n",
        "with open('Customer_private_key.pem', 'wb') as private_key_file:\n",
        "    private_key_file.write(private_key)\n",
        "\n",
        "with open('Customer_public_key.pem', 'wb') as public_key_file:\n",
        "    public_key_file.write(public_key)\n",
        "\n",
        "\n",
        "print(\"Customer key pair generated and saved as Customer_private_key.pem and Customer_public_key.pem.\")\n"
      ],
      "metadata": {
        "colab": {
          "base_uri": "https://localhost:8080/"
        },
        "id": "3yni6wcUmErT",
        "outputId": "d0f0e2cc-5661-4bc2-9978-370ba5960f4c"
      },
      "execution_count": null,
      "outputs": [
        {
          "output_type": "stream",
          "name": "stdout",
          "text": [
            "Customer key pair generated and saved as Customer_private_key.pem and Customer_public_key.pem.\n"
          ]
        }
      ]
    },
    {
      "cell_type": "code",
      "source": [
        "# Step 0.2: Bank Key pair generation\n",
        "\n",
        "private_key, public_key = generate_rsa_key_pair()\n",
        "with open('Bank_private_key.pem', 'wb') as private_key_file:\n",
        "    private_key_file.write(private_key)\n",
        "\n",
        "with open('Bank_public_key.pem', 'wb') as public_key_file:\n",
        "    public_key_file.write(public_key)\n",
        "\n",
        "\n",
        "print(\"Bank key pair generated and saved as Bank_private_key.pem and Bank_public_key.pem.\")"
      ],
      "metadata": {
        "colab": {
          "base_uri": "https://localhost:8080/"
        },
        "id": "4ABUQsuBPNRW",
        "outputId": "556cd325-8fac-4853-93ab-704a53536b2d"
      },
      "execution_count": null,
      "outputs": [
        {
          "output_type": "stream",
          "name": "stdout",
          "text": [
            "Bank key pair generated and saved as Bank_private_key.pem and Bank_public_key.pem.\n"
          ]
        }
      ]
    },
    {
      "cell_type": "code",
      "source": [
        "# Step 0.3: Third party Key pair generation\n",
        "private_key, public_key = generate_rsa_key_pair()\n",
        "with open('Third_party_private_key.pem', 'wb') as private_key_file:\n",
        "    private_key_file.write(private_key)\n",
        "\n",
        "with open('Third_party_public_key.pem', 'wb') as public_key_file:\n",
        "    public_key_file.write(public_key)\n",
        "\n",
        "\n",
        "print(\"Third_party key pair generated and saved as Third_party_private_key.pem and Third_party_public_key.pem.\")"
      ],
      "metadata": {
        "colab": {
          "base_uri": "https://localhost:8080/"
        },
        "id": "TDWk5y_zo3yu",
        "outputId": "1f405ab3-8a18-4b96-c73d-2cb933484760"
      },
      "execution_count": null,
      "outputs": [
        {
          "output_type": "stream",
          "name": "stdout",
          "text": [
            "Third_party key pair generated and saved as Third_party_private_key.pem and Third_party_public_key.pem.\n"
          ]
        }
      ]
    },
    {
      "cell_type": "code",
      "source": [
        "# Step 0.4: CIBIL Key pair\n",
        "private_key, public_key = generate_rsa_key_pair()\n",
        "with open('CIBIL_private_key.pem', 'wb') as private_key_file:\n",
        "    private_key_file.write(private_key)\n",
        "\n",
        "with open('CIBIL_public_key.pem', 'wb') as public_key_file:\n",
        "    public_key_file.write(public_key)\n",
        "\n",
        "\n",
        "print(\"CIBIL key pair generated and saved as CIBIL_private_key.pem and CIBIL_public_key.pem.\")"
      ],
      "metadata": {
        "colab": {
          "base_uri": "https://localhost:8080/"
        },
        "id": "ZQ3tkuCJpTav",
        "outputId": "46a7a9df-12f6-4c9c-9664-60f410bb95f2"
      },
      "execution_count": null,
      "outputs": [
        {
          "output_type": "stream",
          "name": "stdout",
          "text": [
            "CIBIL key pair generated and saved as CIBIL_private_key.pem and CIBIL_public_key.pem.\n"
          ]
        }
      ]
    },
    {
      "cell_type": "markdown",
      "source": [
        "## **Step 1: Customer's Registration and ID generation**\n",
        "\n"
      ],
      "metadata": {
        "id": "B0TcZ0EGgKk3"
      }
    },
    {
      "cell_type": "code",
      "source": [
        "#Virtual identity\n",
        "def generate_virtual_id(unique_id, expiration_date):\n",
        "    # Concatenate the unique ID and expiration date\n",
        "    data = f\"{unique_id}{expiration_date}\"\n",
        "\n",
        "    # Calculate the SHA-256 hash of the concatenated data\n",
        "    sha256_hash = hashlib.sha256(data.encode()).hexdigest()\n",
        "\n",
        "    # Extract a 6-digit substring from the hash\n",
        "    virtual_id_str = sha256_hash[:6]\n",
        "\n",
        "    return virtual_id_str"
      ],
      "metadata": {
        "id": "hufq3zMFbOzP"
      },
      "execution_count": null,
      "outputs": []
    },
    {
      "cell_type": "code",
      "execution_count": null,
      "metadata": {
        "id": "P07FkEeiUslW"
      },
      "outputs": [],
      "source": [
        "#Function: ID generation\n",
        "\n",
        "import hashlib\n",
        "import datetime\n",
        "\n",
        "def generate_unique_id(PII, bio_info):\n",
        "    # Concatenate PII fields and bio_info\n",
        "    data = f\"{PII['Name']}{PII['Address']}{PII['DateOfBirth']}{PII['PhoneNumber']}{bio_info}\"\n",
        "\n",
        "    # Calculate the SHA-256 hash of the concatenated data\n",
        "    sha256_hash = hashlib.sha256(data.encode()).hexdigest()\n",
        "\n",
        "    # Extract a 16-digit substring from the hash\n",
        "    unique_id_str = sha256_hash[:15]\n",
        "\n",
        "    # Convert the substring to an integer\n",
        "    unique_id = int(unique_id_str, 16)  # Interpret as a hexadecimal number\n",
        "\n",
        "    return unique_id\n"
      ]
    },
    {
      "cell_type": "code",
      "source": [
        "# Step 1: ID and VID Generation\n",
        "unique_id = generate_unique_id(PII, bio_info)\n",
        "\n",
        "print(\"Unique Identifier:\", unique_id)\n",
        "\n",
        "current_date = datetime.date.today()\n",
        "expiration_date = current_date + datetime.timedelta(days=30)\n",
        "virtual_id = generate_virtual_id(unique_id, expiration_date)\n",
        "\n",
        "\n",
        "print(\"Virtual ID:\", virtual_id)\n"
      ],
      "metadata": {
        "colab": {
          "base_uri": "https://localhost:8080/"
        },
        "id": "QgANt61hAY3R",
        "outputId": "6a1e67da-817a-4ca5-abaa-859b57ea60d1"
      },
      "execution_count": null,
      "outputs": [
        {
          "output_type": "stream",
          "name": "stdout",
          "text": [
            "Unique Identifier: 529152882543992239\n",
            "Virtual ID: 0bba20\n"
          ]
        }
      ]
    },
    {
      "cell_type": "markdown",
      "source": [
        "###**Step 2: Account Open**\n",
        "The petlib library is designed as a one-stop-shop library to prototype advanced Privacy Enhancing Technologies (PETs) in Python. It abstracts a number of OpenSSL APIs supporting operations on big numbers (bn), elliptic curves (ec) ciphers such as AES in a variety of modes of operation (CTM, GCM, …) (ciphers),message authentication codes (hmac) and ECDSA signatures (ecdsa).\n",
        "https://petlib.readthedocs.io/en/latest/"
      ],
      "metadata": {
        "id": "oT3lE8LIgmIj"
      }
    },
    {
      "cell_type": "code",
      "source": [
        "\n",
        "pip install petlib"
      ],
      "metadata": {
        "id": "c82J7iDwjPDb",
        "colab": {
          "base_uri": "https://localhost:8080/"
        },
        "outputId": "523dc17b-fe53-4f5e-fcfe-73da2d3b9bde"
      },
      "execution_count": null,
      "outputs": [
        {
          "output_type": "stream",
          "name": "stdout",
          "text": [
            "Collecting petlib\n",
            "  Downloading petlib-0.0.45.tar.gz (245 kB)\n",
            "\u001b[2K     \u001b[90m━━━━━━━━━━━━━━━━━━━━━━━━━━━━━━━━━━━━━━━━\u001b[0m \u001b[32m245.8/245.8 kB\u001b[0m \u001b[31m7.7 MB/s\u001b[0m eta \u001b[36m0:00:00\u001b[0m\n",
            "\u001b[?25h  Preparing metadata (setup.py) ... \u001b[?25l\u001b[?25hdone\n",
            "Requirement already satisfied: cffi>=1.0.0 in /usr/local/lib/python3.10/dist-packages (from petlib) (1.16.0)\n",
            "Requirement already satisfied: pycparser>=2.10 in /usr/local/lib/python3.10/dist-packages (from petlib) (2.21)\n",
            "Requirement already satisfied: future>=0.14.3 in /usr/local/lib/python3.10/dist-packages (from petlib) (0.18.3)\n",
            "Requirement already satisfied: pytest>=2.5.0 in /usr/local/lib/python3.10/dist-packages (from petlib) (7.4.3)\n",
            "Collecting pytest-cov>=1.8.1 (from petlib)\n",
            "  Downloading pytest_cov-4.1.0-py3-none-any.whl (21 kB)\n",
            "Collecting msgpack-python>=0.4.6 (from petlib)\n",
            "  Downloading msgpack-python-0.5.6.tar.gz (138 kB)\n",
            "\u001b[2K     \u001b[90m━━━━━━━━━━━━━━━━━━━━━━━━━━━━━━━━━━━━━━━━\u001b[0m \u001b[32m139.0/139.0 kB\u001b[0m \u001b[31m13.8 MB/s\u001b[0m eta \u001b[36m0:00:00\u001b[0m\n",
            "\u001b[?25h  Preparing metadata (setup.py) ... \u001b[?25l\u001b[?25hdone\n",
            "Requirement already satisfied: iniconfig in /usr/local/lib/python3.10/dist-packages (from pytest>=2.5.0->petlib) (2.0.0)\n",
            "Requirement already satisfied: packaging in /usr/local/lib/python3.10/dist-packages (from pytest>=2.5.0->petlib) (23.2)\n",
            "Requirement already satisfied: pluggy<2.0,>=0.12 in /usr/local/lib/python3.10/dist-packages (from pytest>=2.5.0->petlib) (1.3.0)\n",
            "Requirement already satisfied: exceptiongroup>=1.0.0rc8 in /usr/local/lib/python3.10/dist-packages (from pytest>=2.5.0->petlib) (1.2.0)\n",
            "Requirement already satisfied: tomli>=1.0.0 in /usr/local/lib/python3.10/dist-packages (from pytest>=2.5.0->petlib) (2.0.1)\n",
            "Collecting coverage[toml]>=5.2.1 (from pytest-cov>=1.8.1->petlib)\n",
            "  Downloading coverage-7.3.3-cp310-cp310-manylinux_2_5_x86_64.manylinux1_x86_64.manylinux_2_17_x86_64.manylinux2014_x86_64.whl (228 kB)\n",
            "\u001b[2K     \u001b[90m━━━━━━━━━━━━━━━━━━━━━━━━━━━━━━━━━━━━━━━━\u001b[0m \u001b[32m229.0/229.0 kB\u001b[0m \u001b[31m10.4 MB/s\u001b[0m eta \u001b[36m0:00:00\u001b[0m\n",
            "\u001b[?25hBuilding wheels for collected packages: petlib, msgpack-python\n",
            "  Building wheel for petlib (setup.py) ... \u001b[?25l\u001b[?25hdone\n",
            "  Created wheel for petlib: filename=petlib-0.0.45-cp310-cp310-linux_x86_64.whl size=246493 sha256=9b098916caefca65888f1cfaf92f283c250bd4ecd180486c4d857b6094dcc3d9\n",
            "  Stored in directory: /root/.cache/pip/wheels/ef/5b/2b/ee0171b0d6641d1d060ba88c6632c0dc1d089329211da5c1af\n",
            "  Building wheel for msgpack-python (setup.py) ... \u001b[?25l\u001b[?25hdone\n",
            "  Created wheel for msgpack-python: filename=msgpack_python-0.5.6-cp310-cp310-linux_x86_64.whl size=239860 sha256=1bb0d893544b395c3b2e6cb40eece98f9836482c5c1c17014dce0017516fe54d\n",
            "  Stored in directory: /root/.cache/pip/wheels/36/15/c0/6abd0b35e76ca9d00823d197c98d947d45670fcfe9b7e7416a\n",
            "Successfully built petlib msgpack-python\n",
            "Installing collected packages: msgpack-python, coverage, pytest-cov, petlib\n",
            "Successfully installed coverage-7.3.3 msgpack-python-0.5.6 petlib-0.0.45 pytest-cov-4.1.0\n"
          ]
        }
      ]
    },
    {
      "cell_type": "code",
      "source": [
        "#Function: Non-interactive zero-knowledge proof of knowledge\n",
        "\n",
        "import random\n",
        "from petlib.ec import EcGroup\n",
        "from petlib.bn import Bn\n",
        "\n",
        "def NIZKP(PII):\n",
        "    # Define the elliptic curve group\n",
        "    group = EcGroup()\n",
        "\n",
        "    name = PII[\"Name\"]\n",
        "    address = PII[\"Address\"]\n",
        "    dateofbirth = PII[\"DateOfBirth\"]\n",
        "    phonenumber = PII[\"PhoneNumber\"]\n",
        "\n",
        "    # Encode the Name as an integer using a hash function\n",
        "    name_encode = Bn.from_num(int(hashlib.sha256(name.encode()).hexdigest()[:8], 16))\n",
        "    address_encode = Bn.from_num(int(hashlib.sha256(address.encode()).hexdigest()[:8], 16))\n",
        "    dateofbirth_encode = Bn.from_num(int(hashlib.sha256(dateofbirth.encode()).hexdigest()[:8], 16))\n",
        "    phonenumber_encode = Bn.from_num(int(hashlib.sha256(phonenumber.encode()).hexdigest()[:8], 16))\n",
        "\n",
        "    # Generate the user's public key\n",
        "    name_public_key = name_encode * group.generator()\n",
        "    address_public_key = address_encode * group.generator()\n",
        "    dateofbirth_public_key = dateofbirth_encode * group.generator()\n",
        "    phonenumber_public_key = phonenumber_encode * group.generator()\n",
        "\n",
        "    # Commitment\n",
        "    r = Bn.from_num(random.randint(1, 10000))\n",
        "    commitment = r * group.generator()\n",
        "\n",
        "    # Verifier generates a random challenge\n",
        "    c = Bn.from_num(random.randint(1, 10000))\n",
        "\n",
        "    # Prover computes the response\n",
        "    name_response = r + c * name_encode\n",
        "    address_response = r + c * address_encode\n",
        "    dateofbirth_response = r + c * dateofbirth_encode\n",
        "    phonenumber_response = r + c * phonenumber_encode\n",
        "\n",
        "    # Verifier checks the equation\n",
        "    if (\n",
        "        commitment + c * name_public_key == name_response * group.generator()\n",
        "        and commitment + c * address_public_key == address_response * group.generator()\n",
        "        and commitment + c * dateofbirth_public_key == dateofbirth_response * group.generator()\n",
        "        and commitment + c * phonenumber_public_key == phonenumber_response * group.generator()\n",
        "    ):\n",
        "        return 1\n",
        "    else:\n",
        "        return 0\n",
        "\n",
        "\n",
        "# Call the NIZKP function\n",
        "result = NIZKP(PII)\n",
        "print(result)\n"
      ],
      "metadata": {
        "colab": {
          "base_uri": "https://localhost:8080/"
        },
        "id": "KEkhBnEeKtv1",
        "outputId": "cc8ce8cb-0da0-4680-9e42-e3b2dc0d50a2"
      },
      "execution_count": null,
      "outputs": [
        {
          "output_type": "stream",
          "name": "stdout",
          "text": [
            "1\n"
          ]
        }
      ]
    },
    {
      "cell_type": "code",
      "source": [
        "# Function: Account Number\n",
        "import random\n",
        "\n",
        "def generate_account_number(name, address, gender, dateofbirth, phone_number):\n",
        "    # Combine the input data to create a unique seed\n",
        "    seed = str(name) + str(address) +str(gender)+ str(dateofbirth) + str(phone_number)\n",
        "\n",
        "    # Set a fixed random seed for reproducibility (optional)\n",
        "    random.seed(seed)\n",
        "\n",
        "    # Generate a random number\n",
        "    account_number = random.randint(1000000, 9999999)  # You can adjust the range as needed\n",
        "\n",
        "    return account_number"
      ],
      "metadata": {
        "id": "i5bX8Up5hhkF"
      },
      "execution_count": null,
      "outputs": []
    },
    {
      "cell_type": "code",
      "source": [
        "# Function: Customer ID\n",
        "import string\n",
        "def generate_customer_id():\n",
        "    return ''.join(random.choices(string.ascii_uppercase + string.digits, k=8))"
      ],
      "metadata": {
        "id": "AQlSfDNY-9Co"
      },
      "execution_count": null,
      "outputs": []
    },
    {
      "cell_type": "code",
      "source": [
        "#Account open: main\n",
        "\n",
        "#packages and libraries\n",
        "from cryptography.hazmat.primitives.asymmetric import rsa\n",
        "from cryptography.hazmat.primitives import serialization\n",
        "from cryptography.hazmat.primitives import hashes\n",
        "from cryptography.hazmat.primitives.asymmetric import padding\n",
        "\n",
        "# Step: 2.1 Load the public key from a PEM file (request for Bank's public key)\n",
        "with open('Bank_public_key.pem', 'rb') as key_file:\n",
        "    Bank_public_key = serialization.load_pem_public_key(key_file.read())\n",
        "\n",
        "# Step 2.2: Request to open account by encrypting and sending encrypted PII\n",
        "\n",
        "# Encrypts PII details using Bank's public key\n",
        "name = PII[\"Name\"].encode('utf-8')\n",
        "address = PII[\"Address\"].encode('utf-8')\n",
        "gender = PII[\"Gender\"].encode('utf-8')\n",
        "dateofbirth = PII[\"DateOfBirth\"].encode('utf-8')\n",
        "phonenumber = PII[\"PhoneNumber\"].encode('utf-8')\n",
        "\n",
        "enc_name = Bank_public_key.encrypt(name,padding.OAEP(mgf=padding.MGF1(algorithm=hashes.SHA256()), algorithm=hashes.SHA256(), label=None))\n",
        "enc_address = Bank_public_key.encrypt(address,padding.OAEP(mgf=padding.MGF1(algorithm=hashes.SHA256()), algorithm=hashes.SHA256(), label=None))\n",
        "enc_gender = Bank_public_key.encrypt(gender,padding.OAEP(mgf=padding.MGF1(algorithm=hashes.SHA256()), algorithm=hashes.SHA256(), label=None))\n",
        "enc_dateofbirth = Bank_public_key.encrypt(dateofbirth,padding.OAEP(mgf=padding.MGF1(algorithm=hashes.SHA256()), algorithm=hashes.SHA256(), label=None))\n",
        "enc_phonenumber = Bank_public_key.encrypt(phonenumber,padding.OAEP(mgf=padding.MGF1(algorithm=hashes.SHA256()), algorithm=hashes.SHA256(), label=None))\n",
        "\n",
        "print(\"Encrypted PII\")\n",
        "print(\"Name: \", enc_name)\n",
        "print(\"Address: \", enc_address)\n",
        "print(\"Gender: \", enc_gender)\n",
        "print(\"Date of Birth: \", enc_dateofbirth)\n",
        "print(\"Phone number: \", enc_phonenumber)\n",
        "\n",
        "\n"
      ],
      "metadata": {
        "colab": {
          "base_uri": "https://localhost:8080/"
        },
        "id": "PExg62e7fQgW",
        "outputId": "9290257b-a1ba-4d40-d7aa-31ec6df09c35"
      },
      "execution_count": null,
      "outputs": [
        {
          "output_type": "stream",
          "name": "stdout",
          "text": [
            "Encrypted PII\n",
            "Name:  b'\\xae\\x9br\\x00\\xc4\\xf0\\xfe\\xeaN9\\x9a\\xbeL\\xc1\\xebh\\x9a$\\x86\\xb8\\x1c\\x8b\\x85\\xdbu\\x1c|\\xa3\\x15\\x05|\\x85\\x82B$\\xb7\\xe3\\x12\\x87\\x96b\\xad\\xd0k\\xf2\\xdbs\\xe2\\xf2\\xac\\x0e\\xd1\\xa4K2\\x95ii[{\\x01to\\x8e\\xd3\\xea\\x18i\\x00\\xae\\x8f\\xeeMs\\xfd\\xcdmxS_\\xf3l:\\x9e\\xbe1\\xdc\\xcdi^$1\\x8b\\xa4\\x0f\\xca=\\xd7\\x04\\xb8X\\xce\\xd5\\x1aY\\xc9\\x84\\x87\\x088\\xfb!\\xfe\\xd0\\xf6\\x0f\\xf4\\x9c\\xe2s*\\xfdH\\x87\\x07\\xcai\\x1d1V\\xb6\\x8d\\x88\\x97\\x84\\xda\\xd8#\\x14` \\xd5\\xfd\\xbf;G\\xc5\\xf6@iBx\\xae\\xd1\\xa8h>)\\xbb\\x04~\\xcb\\x1b\\xb7c\\xe6\\xe4%M\\xe6v\\x0e\\xef\\xf2e\\x1a\\x05\\x84\\xc4\\xf9+\\x90\\xdd\\xce,\\xa7\\xd7;\\xa1\\x82_\\xf0\\xc5\\xfa\\xe6c\\x07\\xaal\\xe1\\x817\\xb2\\xa1d#l-\\x83.l1\\x02\\x92`\\x939\\xfa\\x17\\x06x\\xe6\\x16\\x89I\\xf0\\x1b\\xf4\\xf5\\x15\\xd8\\xd2\\x03\\x9f\\x16\\xe4\\x1b\\xf0\\xd5\\xa3>Z\\x05=\\xc6\\x95\\xceZ\\xefyB\\xa87iS\\xc4'\n",
            "Address:  b'\\x92A\\xec\\xfb\\xbf\\x93\\x13\\xf8T\\xb6\\xdeQ=k&\\xae%M.\\x01\\xb2\\xae%\\xf2\\xa7\\x06H\\xf1\\xc2\\xdcl\\xad\\x98\\xc4;\\xbe0=\\x0c\\x8c\\xd8\\x97^\\xe3T\\x19t\\xfa\\xb5\\x95\\xb9\\x9dP\\xa6\\xfd\\xf1\\x97X\\xde\\xe6\\xb4\\x13h\\x9c\\x1c\\xa8ZsU\\xf0\\xd5_\\xd7-b\\xe3\\xeeF\\x8e\\x15\\xd3\\x02\\xa1by\\xb1\\xf8\\x10\\xfdI-\\xeb\\xc4\\x87\\nQ\\x91\\xad\\x18\\xcb\\x88\\x88\\x18\\xb7\\xccAw=\\xde;\\x9e4>]\\xbdnpA\\xaa\\xff\\x00\\xe6vM\\xc1\\xb6\\xaf\\xf37\\x04\\x98~\\xad\\xa0F\\xdc\\x9e4$\\xb4\\xf0\\x92\\x9cE\\xf3y;\\xe0\\n\\xdf\\x95\\xfc\\xaf\\xb8q\\xf3km\\xbch\\xd1\\x8a*\"\\x0e\\x1d\\xb5!T\\xee\\x90\\xc3g@.\\x9b\\xce\\xcb\\xe9\\xc7M\\x8f\\xca\\xb7\\xd9\\x8a\\xfee\\xcd\\x08\\x1e\\x9a\\x82\\x0f\\xbaW\\xd9\\xa2\\xef\\x9a\\x13\\x04\\xb3>i`\\xcd\\xb2\\xb1\\xbd\\x1d\\x05\\x83\\xf8\\xe4\\x1d8\\x89-\\xc4\\xdeq\\x84\\xa4h\\xef\\x9e\\x14b\\xe5\\xcd\\xc4\\x1ck\\xff\\x80u3\\xe4\\xb6\\x1c\\xc0\\xf4\\x0b\\xbbQHR\\xd5\\xad\\x88\\x8b\\xcf\\xe0?\\x16'\n",
            "Gender:  b\"\\xb6\\xd1\\xd1\\xa1\\xf0\\xfb>\\xd3\\xcb\\x97^\\xde\\x1a\\x95\\xacNx\\xb3\\xc2\\xd1\\xfa\\xba\\xd7U,\\x1e\\xb0I\\x1f\\x81\\xd9\\xf2\\x80\\xcf\\x17\\x0e`X\\xb5\\xa7\\xbc\\x8c}\\xec\\xfb\\xd0\\xd7f\\x92oC\\xc5j1\\xc9`\\x95\\x89\\xab\\xaf6\\xd6\\x06\\xc2.\\xe8\\xa5\\\\@|O\\x08_y\\xdb\\x8d6\\x803\\x98pVp\\x86\\xf1\\xf4\\x1c\\xd8Ll\\xcd\\x88\\xbb\\xb2\\xa6\\xedNT\\xa0\\xdd\\xf2A\\xe1\\xa6!\\xcd\\xd2\\xd0\\xf1\\x19}\\x0eO\\xe4\\x07\\x01[f\\x9fo\\xfb\\x8c\\x91\\x03\\x19\\xb3\\xb7J\\x9c`-1_\\xd3\\xcf\\x88\\xb5O:\\xf3\\xbf \\x89\\x06\\xae\\xf6\\xb4J;\\xc2\\x8cg9\\xcd\\xdd9\\xcc\\xc4o\\x0c\\xebuh]\\xec\\xa0\\xd1\\x8a\\xbf\\xe0*h\\x10\\x1c\\x88rJ\\xbb\\xceM\\x1c\\xb1\\x91v2\\x0f\\xe2D\\xc4\\x98\\xf4\\x03\\x96\\xb0\\nu'p\\xb6\\x156n\\x14\\xc8\\xc2\\x01\\xb7\\x10\\x08\\x13H\\xc6)\\xcd\\xcf\\x87:\\x06\\x8a\\xd2\\xbb\\xe4S<\\xf7^\\x7fr\\r\\xc4\\xb2a`\\xd0\\xa0 \\x18a\\x93\\xed(\\x19&\\xab\\xa5F\\xc07M\\xed\\x80!&\\x1b\\x87\\x90\"\n",
            "Date of Birth:  b\"\\x16\\xd0\\xbf\\x13-\\xc9\\x9e\\xfb'A\\xbfZ:`M2F7\\xb7\\xeft\\xac\\xbc\\xdc\\xaf0|\\x95\\x1d]\\x86\\xde\\x9b\\xd8e\\xbc\\x89\\xb2n\\xd2Q_\\xef\\xf7\\xfc\\xa9\\xfc\\xcad%\\x0e\\x07\\xe0\\x98(\\x9c\\x11\\x98<\\x0ebn-xJ?\\xe5\\xbf\\x07R\\xd0\\xf8\\x1d\\x17\\x923\\xa7\\xbd_LP\\xeb=\\x85WP\\xde\\xe2\\xa4\\xd0VW\\xf2\\x13\\xc9a$h\\xc8\\x9f\\xb9mF\\xa0\\x1f\\xa9#;\\x03xB\\xc0\\x06E\\x97'\\xc02\\xa8\\x83\\x98\\xf9\\x14\\xed\\xc1\\xbb\\x9d\\xc2\\xba%\\x98\\x9b\\xf8\\xc0uw\\x14\\xbdhZ\\x10iJyM\\x06\\xf4{uM\\x05*\\x95\\x8e\\x89\\tV\\x91\\x02Cht\\x0f\\x99\\xa0\\x9b\\xa5\\xe3\\xf2\\xba\\xb4:\\xf0QX\\xcdFQ-;Z\\xc7\\x83\\x9bw\\xaby\\xde\\nW\\x87\\xa7\\xaf\\xefb\\xe0S\\x9e\\x84D\\xcf\\xf4\\x8c\\x13l\\\\u\\x8dQ\\xf86pt\\xaf\\xd2U\\xcc\\xcd\\xce)1\\x88\\xc5\\xc2\\xf7\\xa6\\x0f^\\xe2\\xd9\\x88\\xe4z&\\xb0e\\x94\\xdd-\\xec\\xbc\\xe5\\xc8\\xdc&\\xf3p\\x8d\\x1c\\x0c\\xb3]\\xdep\\xfe\\x12\"\n",
            "Phone number:  b\"W\\xef \\xd0\\x12\\x14T\\xbag-\\xcf\\x06\\x10\\xa4\\xa7S\\xad.\\xc6\\x99\\xf4\\xc6\\xe2\\x89\\xfe\\xe2\\xb9%\\x8e42\\x96\\xacgv\\xe0\\xf9<\\xb9\\xaf\\x9fRH\\xee\\xba\\xb2{.\\xb3\\xc45\\xf8\\x84\\xf9\\xac\\xcb/\\xc8\\xab;\\xef\\xcf>\\xdc\\x18\\x9b\\x13;\\xb7v\\xb3FJ\\xd0\\xf6iX\\x89\\x941\\x94\\xa4F\\x96\\xf3 M\\xf1\\x11nR\\xe8\\x0e\\xf8\\n\\xde\\x83UZ\\xf2Wv]W\\xe5\\x90\\x91\\xfc\\xc8\\x8f\\x1a\\xbcDm#\\\\DJ3t\\xe6\\x14q`3\\x15\\xafE\\xa6\\x17\\xec\\xc1\\xdb\\x15\\xf0\\x0bBo\\xca\\xf0'u~\\x8f\\x0b\\xa4\\xd3w3\\xf5\\xe0*43\\xe1:\\x0c\\xf7\\xcf8H\\xa4\\x13\\xa1P<\\xb3;\\xb2\\xec\\xdd*y\\x8e\\xdbO+\\x86n\\xb1H\\xdf\\xf0\\x07\\xf4\\xd6Z\\x99N3\\x1e\\xc9\\xf2E\\xc63\\x08\\x0f\\xf8D8\\x13\\x81\\x07\\xd4\\xf0t\\xc0\\xe3\\x16,B\\x8c.\\x88~\\x85\\xa7\\xe6\\xea=\\xda<\\x8e\\xa9R\\xae\\x03\\x8f|\\x01\\xfeY\\xc9\\xc1|$y\\xc9\\xcf\\nJh\\x9c\\x00\\xc9 \\x9a\\x0e\\x18j\\x88\\xefR\\x97\\xc2\"\n"
          ]
        }
      ]
    },
    {
      "cell_type": "code",
      "source": [
        "# Step 2.3: Bank decrypts encrypted information using his private key\n",
        "\n",
        "with open('Bank_private_key.pem', 'rb') as key_file:\n",
        "    Bank_private_key = serialization.load_pem_private_key(\n",
        "        key_file.read(),\n",
        "        password=None  # You may need to provide a password if the key is password-protected\n",
        "    )\n",
        "\n",
        "dec_name = Bank_private_key.decrypt(enc_name,padding.OAEP(mgf=padding.MGF1(algorithm=hashes.SHA256()), algorithm=hashes.SHA256(), label=None))\n",
        "dec_address = Bank_private_key.decrypt(enc_address,padding.OAEP(mgf=padding.MGF1(algorithm=hashes.SHA256()), algorithm=hashes.SHA256(), label=None))\n",
        "dec_gender = Bank_private_key.decrypt(enc_gender,padding.OAEP(mgf=padding.MGF1(algorithm=hashes.SHA256()), algorithm=hashes.SHA256(), label=None))\n",
        "dec_dateofbirth = Bank_private_key.decrypt(enc_dateofbirth,padding.OAEP(mgf=padding.MGF1(algorithm=hashes.SHA256()), algorithm=hashes.SHA256(), label=None))\n",
        "dec_phonenumber = Bank_private_key.decrypt(enc_phonenumber,padding.OAEP(mgf=padding.MGF1(algorithm=hashes.SHA256()), algorithm=hashes.SHA256(), label=None))\n",
        "\n",
        "print(\"\\nDecrypted PII\")\n",
        "print(\"Name: \", dec_name.decode('utf-8'))\n",
        "print(\"Address: \", dec_address.decode('utf-8'))\n",
        "print(\"Gender: \", dec_gender.decode('utf-8'))\n",
        "print(\"Date of Birth: \", dec_dateofbirth.decode('utf-8'))\n",
        "print(\"Phone number: \", dec_phonenumber.decode('utf-8'))\n",
        "\n",
        "\n",
        "# Step 2.4: Customer Authentication Using ZKP\n",
        "# Information in json formate\n",
        "Decrypted_PII={\n",
        "    \"Name\": dec_name.decode('utf-8'),\n",
        "    \"Address\" : dec_address.decode('utf-8'),\n",
        "    \"Gender\" : dec_gender.decode('utf-8'),\n",
        "    \"DateOfBirth\" : dec_dateofbirth.decode('utf-8'),\n",
        "    \"PhoneNumber\" : dec_phonenumber.decode('utf-8')\n",
        "}\n",
        "\n",
        "result = NIZKP(Decrypted_PII)\n",
        "\n"
      ],
      "metadata": {
        "colab": {
          "base_uri": "https://localhost:8080/"
        },
        "id": "RWBh7Sb1O4Vt",
        "outputId": "41842aa1-cd3f-4ae1-d890-f622408c05d2"
      },
      "execution_count": null,
      "outputs": [
        {
          "output_type": "stream",
          "name": "stdout",
          "text": [
            "\n",
            "Decrypted PII\n",
            "Name:  Mahesh Gupta\n",
            "Address:  Abc, Gurgaon, Delhi\n",
            "Gender:  male\n",
            "Date of Birth:  12/10/1991\n",
            "Phone number:  9898001123\n"
          ]
        }
      ]
    },
    {
      "cell_type": "code",
      "source": [
        "#Step 2.5: If verified,\n",
        "#generate account details, (user id, account number),\n",
        "#encrypt gender info Customer_pub_key\n",
        "# and account details with Bank_pub_key\n",
        "#and store them in their storage\n",
        "\n",
        "#Generates customer\n",
        "if result!=1:\n",
        "  print(\"not valid\")\n",
        "else:\n",
        "  # Extract Bank and Customer's Public keys\n",
        "  with open('Customer_public_key.pem', 'rb') as key_file:\n",
        "      Customer_public_key = serialization.load_pem_public_key(key_file.read())\n",
        "  with open('Bank_public_key.pem', 'rb') as key_file:\n",
        "      Bank_public_key = serialization.load_pem_public_key(key_file.read())\n",
        "\n",
        "  #Encyrpt gender details with customer public key and rest with his public key and encrypted iformation in its storage\n",
        "  enc_name = Customer_public_key.encrypt(\n",
        "      Decrypted_PII[\"Name\"].encode('utf-8'),  # Encode the string to bytes\n",
        "      padding.OAEP(mgf=padding.MGF1(algorithm=hashes.SHA256()), algorithm=hashes.SHA256(), label=None))\n",
        "  enc_address= Customer_public_key.encrypt(\n",
        "      Decrypted_PII[\"Address\"].encode('utf-8'),\n",
        "      padding.OAEP(mgf=padding.MGF1(algorithm=hashes.SHA256()), algorithm=hashes.SHA256(), label=None))\n",
        "  enc_name = Customer_public_key.encrypt(\n",
        "      Decrypted_PII[\"DateOfBirth\"].encode('utf-8'),\n",
        "      padding.OAEP(mgf=padding.MGF1(algorithm=hashes.SHA256()), algorithm=hashes.SHA256(), label=None))\n",
        "  enc_name = Customer_public_key.encrypt(\n",
        "      Decrypted_PII[\"PhoneNumber\"].encode('utf-8'),\n",
        "      padding.OAEP(mgf=padding.MGF1(algorithm=hashes.SHA256()), algorithm=hashes.SHA256(), label=None))\n",
        "\n",
        "  enc_name = Bank_public_key.encrypt(\n",
        "      Decrypted_PII[\"Gender\"].encode('utf-8'),\n",
        "      padding.OAEP(mgf=padding.MGF1(algorithm=hashes.SHA256()), algorithm=hashes.SHA256(), label=None))\n",
        "\n",
        "  # Generate account details\n",
        "  account_num = generate_account_number(name, address, gender, dateofbirth, phonenumber)\n",
        "  customer_id = generate_customer_id()\n",
        "  print(\"Customer ID :\", customer_id)\n",
        "  print(\"Account Number :\", account_num)\n",
        "\n",
        "\n"
      ],
      "metadata": {
        "colab": {
          "base_uri": "https://localhost:8080/"
        },
        "id": "lenAlbRiPH4N",
        "outputId": "3af0a599-b30b-42c9-f6fa-0685eb682a86"
      },
      "execution_count": null,
      "outputs": [
        {
          "output_type": "stream",
          "name": "stdout",
          "text": [
            "Customer ID : 7VGXC7XU\n",
            "Account Number : 8032274\n"
          ]
        }
      ]
    },
    {
      "cell_type": "code",
      "source": [
        "#Step 2.6: Bank encrypts account details using customer public key and sends it to customer\n",
        "enc_account_num = Customer_public_key.encrypt(\n",
        "    str(account_num).encode('utf-8'),  # Convert the integer to bytes and then encrypt\n",
        "    padding.OAEP(mgf=padding.MGF1(algorithm=hashes.SHA256()), algorithm=hashes.SHA256(), label=None))\n",
        "\n",
        "enc_customer_id = Customer_public_key.encrypt(\n",
        "    str(customer_id).encode('utf-8'),  # Convert the integer to bytes and then encrypt\n",
        "    padding.OAEP(mgf=padding.MGF1(algorithm=hashes.SHA256()), algorithm=hashes.SHA256(), label=None))\n",
        "\n",
        "print(\"Encrypted Customer ID: \", enc_customer_id)\n",
        "print(\"Encrypted Account Number: \", enc_account_num)"
      ],
      "metadata": {
        "colab": {
          "base_uri": "https://localhost:8080/"
        },
        "id": "rIO1lsI6PMaW",
        "outputId": "cdce054d-30ce-4631-d124-fa5a04320e31"
      },
      "execution_count": null,
      "outputs": [
        {
          "output_type": "stream",
          "name": "stdout",
          "text": [
            "Encrypted Customer ID:  b'\\xc0+\\xb0\\xba\\x91\\xcep\\xacJ\\xb4W\\x9a\\xc4\\x1f\\xff/\\xe4\\\\ts\\x00\\xc4\\xd9 \\xf9^\\x97\\xe0\\xa4\\xbe\\xdc\\x82\\xbb\\x03\\xef\\xf7\\xf4=\\xf9\\x828\\xb7HH\\x18-\\x15\\x8a\\x92\\x03m\\xaeo\\x04\\x1c?\"}Q\\xcf\\x1c\\x9cD\\xd4\\xd5\\x1d\\x1dC\\x9a\\xeb\\x99\\xb9\"\\xb9=\\xb0oO\\xe0\\x00\\x95\\xd9X<\\x14\\xcb\\xbdzc\\xc3\\xdb\\x9c\\xdbk`\\xd0\\n\\x11\\x96\\xe7z\\xaa\\xe5\\x00\\x7f\\xbbV_\\xf4B),m \\x17 \\x84A~:7\\x95\\xf8\\x9dQ/+i\\xc3n\\x7fO\\x94\\xa8\\xb3\\xb2\\xdb\\xd0X\\xec\\xcc\\xa8\\x9bLC\\xbe\\xf1\\xc5\\xd1\\x01\\tob)7\\xaf *\\xff\\xbb\\x92\\xb6@\\xbd\\xa0\\xdb\\xe6\\x92\\xf1 \\xf1\\xb5\\xa1\\xc1\\x80Q\\x07ytH^\\xf1\\x04\\xcb1u\\x16T\\n\\x18)Y\\xb0\\x9aFu =\\x01\\xf3/F\\x0e\\xe7\\xd5\\x04\\xae\\xa2~\\xb5\\xd9\\x171\\xbe\\xb4\\x16\\xeb\\xdf\\xa9\\xef\\x17#\\xce\\x17\\xb0<\\xf5g\\x0ce\\xfc\\xf7\\xf4\\xf6\\x80\\xa8i0!\\x0c\\x8f5\\xc6\\x05\\x92\\n\\xfb\\xc0Tv\\xff\\xa7\\x9a\\x0e/\\xfd'\n",
            "Encrypted Account Number:  b'\\x98+\\x16\\xdc\\x93\\xd6\\xbf\\x16\\xa5y\\xa6K\\xd0o\\xcc\\xa6u7\\xa0\\xc2\\xcd\\x8e*:4\\x81\\x98[\\x9a6\\xbb\\x93n\\xab2\\xea\\xaa\\xb4\\xee\\xe8\\xb1\\x02^m\\x16p\\xe1\\x91\\xaf\\xe0\\xf3\\xaet\\xc4\\xaa\\x19\\x88+\\xc9\\xabG\\xbb\\x9b\\xf3\\x87\\xf9\\x93!\\xbc6\\x1c^\\xb3\\x88;\\x16<\\xc7\\xe0\\x05\\xb9\\xf6B\\xa9R\\xa2\\xa4\\xaa\\xd6\\x85\\x1e\\x8d\\xbe \\x9b\\x11\\xa0\\xe4\\xb1\\xb2\\x88\\x16U%\\xfa\\x97_\\x1f\\x18\\x8b\\x0f(1cZ\\x0cn\\x7f\\xba\\xc4\\xe9\\x87\\xb3q\\xd6\\x8a\\x8b/\\xf8\\x9c[\\xa0\\xc5\\xb1Y\\xccv\\xda2a;\\x02\\xc8\\xf6\\x86#7\\xaa\\xdd(\"z*\\xad\\r\\xa9/\\xc7T\\xbe\\xe3=\\xf2%\\xbc\\x8c\\xf1\\xed\\x89\\x86\\xd6PU$\\xc8\\x8c\\xe1\\xa1M\\xee\\x95r\\xe1`\\xe7\\xaf\\xdb\\x07fM\\x08\\x07\\xe0T\\xb9\\xa7d\\xb9\\x7f\\xcc\\xea\\\\\\x12/\\xe8\\x87\\x7fL\\x8fINS\\xe2\\xd1;Q/\\xe2\\xa9\\x06\\xb8\\xbb\\x13N\\xcf\\x8f\\xc9\\xb7\\x88QS\\x89A\\x05\\x8f#\\x9a\\x88\\x1b\\xa9\\xab\\xe2\\xa2_\\xeb\\x02\\xab\\x1f\\xd6\\xce\\xee$\\xe2\\xf2\\xe0c'\n"
          ]
        }
      ]
    },
    {
      "cell_type": "code",
      "source": [
        "#Step 2.7: Customer decrypts the encrypted details with private key and save it.\n",
        "with open('Customer_private_key.pem', 'rb') as key_file:\n",
        "    Customer_private_key = serialization.load_pem_private_key(\n",
        "        key_file.read(),\n",
        "        password=None)  # You may need to provide a password if the key is password-protected\n",
        "\n",
        "dec_account_num = Customer_private_key.decrypt(\n",
        "    enc_account_num,\n",
        "    padding.OAEP(mgf=padding.MGF1(algorithm=hashes.SHA256()), algorithm=hashes.SHA256(), label=None) )\n",
        "\n",
        "dec_customer_id = Customer_private_key.decrypt(\n",
        "    enc_customer_id,\n",
        "    padding.OAEP(mgf=padding.MGF1(algorithm=hashes.SHA256()), algorithm=hashes.SHA256(), label=None) )\n",
        "\n",
        "print(\"Decrypted Customer ID: \", dec_customer_id.decode('utf-8'))\n",
        "print(\"Decrypted Account Number: \", dec_account_num.decode('utf-8'))"
      ],
      "metadata": {
        "colab": {
          "base_uri": "https://localhost:8080/"
        },
        "id": "rRfyEXmCPsJZ",
        "outputId": "d9c7499a-2eba-42fa-d3f0-eaaf0d8ae569"
      },
      "execution_count": null,
      "outputs": [
        {
          "output_type": "stream",
          "name": "stdout",
          "text": [
            "Decrypted Customer ID:  7VGXC7XU\n",
            "Decrypted Account Number:  8032274\n"
          ]
        }
      ]
    },
    {
      "cell_type": "markdown",
      "source": [
        "##  **Step 3: Signin and Login**"
      ],
      "metadata": {
        "id": "z3ghyj13JroM"
      }
    },
    {
      "cell_type": "code",
      "source": [
        "!sudo apt-get update"
      ],
      "metadata": {
        "colab": {
          "base_uri": "https://localhost:8080/"
        },
        "id": "pCMFRwQ7k0t8",
        "outputId": "8f09e75d-c7b2-422d-e6a8-c87054e43afe"
      },
      "execution_count": null,
      "outputs": [
        {
          "output_type": "stream",
          "name": "stdout",
          "text": [
            "\r0% [Working]\r            \rGet:1 https://cloud.r-project.org/bin/linux/ubuntu jammy-cran40/ InRelease [3,626 B]\n",
            "Get:2 https://developer.download.nvidia.com/compute/cuda/repos/ubuntu2204/x86_64  InRelease [1,581 B]\n",
            "Get:3 https://developer.download.nvidia.com/compute/cuda/repos/ubuntu2204/x86_64  Packages [634 kB]\n",
            "Hit:4 http://archive.ubuntu.com/ubuntu jammy InRelease\n",
            "Get:5 http://security.ubuntu.com/ubuntu jammy-security InRelease [110 kB]\n",
            "Get:6 http://archive.ubuntu.com/ubuntu jammy-updates InRelease [119 kB]\n",
            "Get:7 https://ppa.launchpadcontent.net/c2d4u.team/c2d4u4.0+/ubuntu jammy InRelease [18.1 kB]\n",
            "Hit:8 https://ppa.launchpadcontent.net/deadsnakes/ppa/ubuntu jammy InRelease\n",
            "Get:9 http://security.ubuntu.com/ubuntu jammy-security/universe amd64 Packages [1,046 kB]\n",
            "Get:10 http://archive.ubuntu.com/ubuntu jammy-backports InRelease [109 kB]\n",
            "Get:11 https://ppa.launchpadcontent.net/graphics-drivers/ppa/ubuntu jammy InRelease [24.3 kB]\n",
            "Hit:12 https://ppa.launchpadcontent.net/ubuntugis/ppa/ubuntu jammy InRelease\n",
            "Get:13 http://archive.ubuntu.com/ubuntu jammy-updates/universe amd64 Packages [1,305 kB]\n",
            "Get:14 https://ppa.launchpadcontent.net/c2d4u.team/c2d4u4.0+/ubuntu jammy/main Sources [2,247 kB]\n",
            "Get:15 http://security.ubuntu.com/ubuntu jammy-security/main amd64 Packages [1,326 kB]\n",
            "Get:16 http://archive.ubuntu.com/ubuntu jammy-updates/main amd64 Packages [1,599 kB]\n",
            "Get:17 https://ppa.launchpadcontent.net/c2d4u.team/c2d4u4.0+/ubuntu jammy/main amd64 Packages [1,153 kB]\n",
            "Get:18 https://ppa.launchpadcontent.net/graphics-drivers/ppa/ubuntu jammy/main amd64 Packages [39.8 kB]\n",
            "Fetched 9,736 kB in 2s (4,558 kB/s)\n",
            "Reading package lists... Done\n"
          ]
        }
      ]
    },
    {
      "cell_type": "code",
      "source": [
        "!sudo apt-get install sqlite3"
      ],
      "metadata": {
        "colab": {
          "base_uri": "https://localhost:8080/"
        },
        "id": "-hr1KH4yk9wd",
        "outputId": "9ec5367d-bd99-467c-d078-552b1df4c14b"
      },
      "execution_count": null,
      "outputs": [
        {
          "output_type": "stream",
          "name": "stdout",
          "text": [
            "Reading package lists... Done\n",
            "Building dependency tree... Done\n",
            "Reading state information... Done\n",
            "Suggested packages:\n",
            "  sqlite3-doc\n",
            "The following NEW packages will be installed:\n",
            "  sqlite3\n",
            "0 upgraded, 1 newly installed, 0 to remove and 43 not upgraded.\n",
            "Need to get 768 kB of archives.\n",
            "After this operation, 1,873 kB of additional disk space will be used.\n",
            "Get:1 http://archive.ubuntu.com/ubuntu jammy-updates/main amd64 sqlite3 amd64 3.37.2-2ubuntu0.1 [768 kB]\n",
            "Fetched 768 kB in 1s (687 kB/s)\n",
            "debconf: unable to initialize frontend: Dialog\n",
            "debconf: (No usable dialog-like program is installed, so the dialog based frontend cannot be used. at /usr/share/perl5/Debconf/FrontEnd/Dialog.pm line 78, <> line 1.)\n",
            "debconf: falling back to frontend: Readline\n",
            "debconf: unable to initialize frontend: Readline\n",
            "debconf: (This frontend requires a controlling tty.)\n",
            "debconf: falling back to frontend: Teletype\n",
            "dpkg-preconfigure: unable to re-open stdin: \n",
            "Selecting previously unselected package sqlite3.\n",
            "(Reading database ... 121666 files and directories currently installed.)\n",
            "Preparing to unpack .../sqlite3_3.37.2-2ubuntu0.1_amd64.deb ...\n",
            "Unpacking sqlite3 (3.37.2-2ubuntu0.1) ...\n",
            "Setting up sqlite3 (3.37.2-2ubuntu0.1) ...\n",
            "Processing triggers for man-db (2.10.2-1) ...\n"
          ]
        }
      ]
    },
    {
      "cell_type": "code",
      "source": [
        "!sqlite3 --version"
      ],
      "metadata": {
        "colab": {
          "base_uri": "https://localhost:8080/"
        },
        "id": "D4BPYYCxlFTC",
        "outputId": "5542a484-ea13-40c8-a2f3-0c02ef8d6b63"
      },
      "execution_count": null,
      "outputs": [
        {
          "output_type": "stream",
          "name": "stdout",
          "text": [
            "3.37.2 2022-01-06 13:25:41 872ba256cbf61d9290b571c0e6d82a20c224ca3ad82971edc46b29818d5dalt1\n"
          ]
        }
      ]
    },
    {
      "cell_type": "code",
      "source": [
        "!sqlite3 Secureloan.db #not required"
      ],
      "metadata": {
        "colab": {
          "base_uri": "https://localhost:8080/"
        },
        "id": "SyfARLKx0w3n",
        "outputId": "e73f0ff9-a54a-45b5-80b8-00dd49874474"
      },
      "execution_count": null,
      "outputs": [
        {
          "output_type": "stream",
          "name": "stdout",
          "text": [
            "SQLite version 3.37.2 2022-01-06 13:25:41\n",
            "Enter \".help\" for usage hints.\n",
            "\u001b[?2004hsqlite> CREATE TABLE users (     id INTEGER PRIMARY KEY AUTOINCREMENT,     username TEXT NOT NULL,     password TEXT NOT NULL );\n",
            "Error: in prepare, table users already exists (1)\n",
            "\u001b[?2004hsqlite> INSERT INTO users (username, password) VALUES ('user123', 'password123');\n",
            "\u001b[?2004hsqlite> SELECT * FROM users;\n",
            "1|user123|password123\n",
            "2|user123|password123\n",
            "3|user123|password123\n",
            "4|user124|password124\n",
            "5|user123|password123\n",
            "6|user123|password123\n",
            "7|user123|password123\n",
            "8|user123|password123\n",
            "\u001b[?2004hsqlite> .exit\n"
          ]
        }
      ]
    },
    {
      "cell_type": "code",
      "source": [
        "def hash_password(password):\n",
        "    return hashlib.sha256(password.encode()).hexdigest()"
      ],
      "metadata": {
        "id": "4e6mjJot3u6b"
      },
      "execution_count": null,
      "outputs": []
    },
    {
      "cell_type": "code",
      "source": [
        "import sqlite3\n",
        "import hashlib\n",
        "\n",
        "# Function to create a table for user credentials\n",
        "def initialize_table():\n",
        "    connection = sqlite3.connect(\"Secureloan.db\")\n",
        "    cursor = connection.cursor()\n",
        "\n",
        "    # Create a table to store user credentials\n",
        "    cursor.execute('''\n",
        "        CREATE TABLE IF NOT EXISTS users (\n",
        "            id INTEGER PRIMARY KEY AUTOINCREMENT,\n",
        "            username TEXT NOT NULL,\n",
        "            password TEXT NOT NULL\n",
        "        )\n",
        "    ''')\n",
        "\n",
        "    connection.commit()\n",
        "    connection.close()\n",
        "\n",
        "initialize_table()"
      ],
      "metadata": {
        "id": "6y83Vg7ABQhr"
      },
      "execution_count": null,
      "outputs": []
    },
    {
      "cell_type": "code",
      "source": [
        "import sqlite3\n",
        "import hashlib\n",
        "from petlib.ec import EcGroup, Bn\n",
        "import random\n",
        "\n",
        "def Sign_In(username, name, address, dateofbirth, phonenumber):\n",
        "    connection = sqlite3.connect(\"Secureloan.db\")\n",
        "    cursor = connection.cursor()\n",
        "\n",
        "    # Check if the username already exists\n",
        "    cursor.execute('''\n",
        "        SELECT * FROM users\n",
        "        WHERE username = ?\n",
        "    ''', (username,))\n",
        "\n",
        "    existing_user = cursor.fetchone()\n",
        "\n",
        "    if existing_user:\n",
        "        print(\"Username already exists. Please choose a different username.\")\n",
        "        connection.close()\n",
        "        return\n",
        "\n",
        "    # Call NIZKP function for verification\n",
        "    PII = {\"Name\": name, \"Address\": address, \"DateOfBirth\": dateofbirth, \"PhoneNumber\": phonenumber}\n",
        "    verification_result = NIZKP(PII)\n",
        "\n",
        "    if verification_result:\n",
        "        print(\"Persional details are verified\")\n",
        "        password = input(\"Enter your password: \")\n",
        "\n",
        "        password_hash = hash_password(password)\n",
        "\n",
        "        # Insert a sample user\n",
        "        cursor.execute('''\n",
        "            INSERT INTO users (username, password) VALUES (?, ?)\n",
        "        ''', (username, password_hash))\n",
        "\n",
        "        print(\"User registered successfully!\")\n",
        "    else:\n",
        "        print(\"Verification failed. User not registered.\")\n",
        "\n",
        "    connection.commit()\n",
        "    connection.close()\n",
        "\n",
        "def hash_password(password):\n",
        "    # Hash the password using SHA-256\n",
        "    return hashlib.sha256(password.encode()).hexdigest()\n",
        "\n",
        "# Example of how to call insert_user_details\n",
        "username_input = input(\"Enter username: \")\n",
        "name_input = input(\"Enter your name: \")\n",
        "address_input = input(\"Enter your address: \")\n",
        "dateofbirth_input = input(\"Enter your date of birth: \")\n",
        "phonenumber_input = input(\"Enter your phone number: \")\n",
        "\n",
        "Sign_In(username_input, name_input, address_input, dateofbirth_input, phonenumber_input)\n"
      ],
      "metadata": {
        "colab": {
          "base_uri": "https://localhost:8080/"
        },
        "id": "uUke44DfAxL-",
        "outputId": "0e0852d3-fea3-4c41-89fe-5836221e2d72"
      },
      "execution_count": null,
      "outputs": [
        {
          "output_type": "stream",
          "name": "stdout",
          "text": [
            "Enter username: mahesh23\n",
            "Enter your name: mahesh\n",
            "Enter your address: 3 drapers fields\n",
            "Enter your date of birth: 12/6/1992\n",
            "Enter your phone number: 078854214625\n",
            "Persional details are verified\n",
            "Enter your password: mahesh123\n",
            "User registered successfully!\n"
          ]
        }
      ]
    },
    {
      "cell_type": "markdown",
      "source": [
        "**Display User Credentials**"
      ],
      "metadata": {
        "id": "SkYNJ1tT8Lb-"
      }
    },
    {
      "cell_type": "code",
      "source": [
        "import sqlite3\n",
        "\n",
        "def display_user_credentials():\n",
        "    connection = sqlite3.connect(\"Secureloan.db\")\n",
        "    cursor = connection.cursor()\n",
        "\n",
        "    # Fetch all user records\n",
        "    cursor.execute('''\n",
        "        SELECT * FROM users\n",
        "    ''')\n",
        "\n",
        "    users = cursor.fetchall()\n",
        "\n",
        "    if not users:\n",
        "        print(\"No users found.\")\n",
        "    else:\n",
        "        print(\"List of Usernames and Password Hashes:\")\n",
        "        for user in users:\n",
        "            print(f\"Username: {user[1]}, Password Hash: {user[2]}\")\n",
        "\n",
        "    connection.close()"
      ],
      "metadata": {
        "id": "j0p6Bs6Y7Eyn"
      },
      "execution_count": null,
      "outputs": []
    },
    {
      "cell_type": "code",
      "source": [
        "display_user_credentials()"
      ],
      "metadata": {
        "colab": {
          "base_uri": "https://localhost:8080/"
        },
        "id": "PfOSfOrS73Ql",
        "outputId": "138f967a-cd3f-4947-d4df-9a5cc176e677"
      },
      "execution_count": null,
      "outputs": [
        {
          "output_type": "stream",
          "name": "stdout",
          "text": [
            "List of Usernames and Password Hashes:\n",
            "Username: mahesh23, Password Hash: c13979bc30c51b2e8d1e80e1dd303dbeb8bd102bfa454c141d98d99325ca5165\n"
          ]
        }
      ]
    },
    {
      "cell_type": "markdown",
      "source": [
        " **Remove user**"
      ],
      "metadata": {
        "id": "CE_kCoMS8V7b"
      }
    },
    {
      "cell_type": "code",
      "source": [
        "import sqlite3\n",
        "\n",
        "def remove_user(username):\n",
        "    connection = sqlite3.connect(\"Secureloan.db\")\n",
        "    cursor = connection.cursor()\n",
        "\n",
        "    # Check if the user exists\n",
        "    cursor.execute('''\n",
        "        SELECT * FROM users\n",
        "        WHERE username = ?\n",
        "    ''', (username,))\n",
        "\n",
        "    user = cursor.fetchone()\n",
        "\n",
        "    if user:\n",
        "        # Remove the user\n",
        "        cursor.execute('''\n",
        "            DELETE FROM users\n",
        "            WHERE username = ?\n",
        "        ''', (username,))\n",
        "\n",
        "        print(f\"User '{username}' removed successfully.\")\n",
        "        connection.commit()\n",
        "    else:\n",
        "        print(f\"User '{username}' not found.\")\n",
        "\n",
        "    connection.close()"
      ],
      "metadata": {
        "id": "EJ8-ASdO7aGX"
      },
      "execution_count": null,
      "outputs": []
    },
    {
      "cell_type": "code",
      "source": [
        "username =input(\"Enter your username: \")\n",
        "remove_user(username)"
      ],
      "metadata": {
        "colab": {
          "base_uri": "https://localhost:8080/"
        },
        "id": "4K97lYK-7m4t",
        "outputId": "9fc25e3a-ccfc-4421-d892-d3b56f850d7b"
      },
      "execution_count": null,
      "outputs": [
        {
          "output_type": "stream",
          "name": "stdout",
          "text": [
            "Enter your username: user150\n",
            "User 'user150' removed successfully.\n"
          ]
        }
      ]
    },
    {
      "cell_type": "markdown",
      "source": [
        "### **Step 4: Apply for Loan**"
      ],
      "metadata": {
        "id": "YKIrtOgQmdtl"
      }
    },
    {
      "cell_type": "code",
      "source": [
        "#login\n",
        "import sqlite3\n",
        "import hashlib\n",
        "\n",
        "def login(username, password):\n",
        "    connection = sqlite3.connect(\"Secureloan.db\")\n",
        "    cursor = connection.cursor()\n",
        "\n",
        "    # Check if the entered credentials match\n",
        "    cursor.execute('''\n",
        "        SELECT * FROM users\n",
        "        WHERE username = ? AND password = ?\n",
        "    ''', (username, hash_password(password)))\n",
        "\n",
        "    user = cursor.fetchone()\n",
        "\n",
        "    connection.close()\n",
        "\n",
        "    if user:\n",
        "        print(\"Login successful!\")\n",
        "    else:\n",
        "        print(\"Invalid username or password. Please try again.\")\n",
        "\n",
        "def hash_password(password):\n",
        "    # Hash the password using SHA-256\n",
        "    return hashlib.sha256(password.encode()).hexdigest()\n",
        "\n",
        "# Example of how to call the login function\n",
        "username_input = input(\"Enter your username: \")\n",
        "password_input = input(\"Enter your password: \")\n",
        "\n",
        "login(username_input, password_input)\n"
      ],
      "metadata": {
        "colab": {
          "base_uri": "https://localhost:8080/"
        },
        "id": "DdtF04xEMjCR",
        "outputId": "e8894096-18a3-43ce-ddb2-eb79a09af5c0"
      },
      "execution_count": null,
      "outputs": [
        {
          "output_type": "stream",
          "name": "stdout",
          "text": [
            "Enter your username: mahesh23\n",
            "Enter your password: mahesh123\n",
            "Login successful!\n"
          ]
        }
      ]
    },
    {
      "cell_type": "code",
      "source": [
        "#Step 3.1: Customer request for CIBIL and Bank's public key to know his CIBIL score\n",
        "\n",
        "with open('Bank_public_key.pem', 'rb') as key_file:\n",
        "    Bank_public_key = serialization.load_pem_public_key(key_file.read())\n",
        "\n",
        "with open('CIBIL_public_key.pem', 'rb') as key_file:\n",
        "    CIBIL_public_key = serialization.load_pem_public_key(key_file.read())\n",
        "\n",
        "#Step 3.2:  Customer encrypts FII and PII with CIBIL public key and request for CIBIL score\n",
        "name = PII[\"Name\"].encode('utf-8')\n",
        "address = PII[\"Address\"].encode('utf-8')\n",
        "gender = PII[\"Gender\"].encode('utf-8')\n",
        "dateofbirth = PII[\"DateOfBirth\"].encode('utf-8')\n",
        "phonenumber = PII[\"PhoneNumber\"].encode('utf-8')\n",
        "\n",
        "employmentstatus=FI[\"EmploymentStatus\"].encode('utf-8')\n",
        "salary= FI[\"Salary\"].encode('utf-8')\n",
        "existingloan=FI[\"ExistingLoan\"].encode('utf-8')\n",
        "collateral=FI[\"Collateral\"].encode('utf-8')\n",
        "\n",
        "enc_name = CIBIL_public_key.encrypt(name,padding.OAEP(mgf=padding.MGF1(algorithm=hashes.SHA256()), algorithm=hashes.SHA256(), label=None))\n",
        "enc_address = CIBIL_public_key.encrypt(address,padding.OAEP(mgf=padding.MGF1(algorithm=hashes.SHA256()), algorithm=hashes.SHA256(), label=None))\n",
        "enc_gender = CIBIL_public_key.encrypt(gender,padding.OAEP(mgf=padding.MGF1(algorithm=hashes.SHA256()), algorithm=hashes.SHA256(), label=None))\n",
        "enc_dateofbirth = CIBIL_public_key.encrypt(dateofbirth,padding.OAEP(mgf=padding.MGF1(algorithm=hashes.SHA256()), algorithm=hashes.SHA256(), label=None))\n",
        "enc_phonenumber = CIBIL_public_key.encrypt(phonenumber,padding.OAEP(mgf=padding.MGF1(algorithm=hashes.SHA256()), algorithm=hashes.SHA256(), label=None))\n",
        "\n",
        "enc_employmentstatus = CIBIL_public_key.encrypt(employmentstatus,padding.OAEP(mgf=padding.MGF1(algorithm=hashes.SHA256()), algorithm=hashes.SHA256(), label=None))\n",
        "enc_salary = CIBIL_public_key.encrypt(salary,padding.OAEP(mgf=padding.MGF1(algorithm=hashes.SHA256()), algorithm=hashes.SHA256(), label=None))\n",
        "enc_existingloan = CIBIL_public_key.encrypt(existingloan,padding.OAEP(mgf=padding.MGF1(algorithm=hashes.SHA256()), algorithm=hashes.SHA256(), label=None))\n",
        "enc_collateral = CIBIL_public_key.encrypt(collateral,padding.OAEP(mgf=padding.MGF1(algorithm=hashes.SHA256()), algorithm=hashes.SHA256(), label=None))\n",
        "\n",
        "print(\"Encrypted personal identifiable information\")\n",
        "print(\"Name: \", enc_name)\n",
        "print(\"Address: \", enc_address)\n",
        "print(\"Gender: \", enc_gender)\n",
        "print(\"Date of Birth: \", enc_dateofbirth)\n",
        "print(\"Phone number: \", enc_phonenumber)\n",
        "\n",
        "print(\"\\nEncrypted financial information\")\n",
        "print(\"Employment status: \", enc_employmentstatus)\n",
        "print(\"Salary\", enc_salary)\n",
        "print(\"Existing Loan: \", enc_existingloan)\n",
        "print(\"Collateral: \", enc_collateral)\n"
      ],
      "metadata": {
        "colab": {
          "base_uri": "https://localhost:8080/"
        },
        "id": "qOrDAd2Rmcoj",
        "outputId": "3fcc4528-a687-48c3-e3eb-2e907fe24e2a"
      },
      "execution_count": null,
      "outputs": [
        {
          "output_type": "stream",
          "name": "stdout",
          "text": [
            "Encrypted personal identifiable information\n",
            "Name:  b'\\x17\\xc2\\xfaA\\xa2\\x7fA\\xff\\x89\\xd3\\x18\\n\\xc6#\\x1a\\xd7\\x8d2\\xd0ps\\x16{\\xcf\\r[v,\\xcd\\x9f\\xba}\\x13(\\x7f\\x91u\\xac\\x8e\\x05\\x94\\xf9,\\xd33\\xcc\\xe0,F\\x0f\\xc9\\xf3\\xf8{.J\\xf8\\x14\\xc1\\x0e\\xd2\\x83\\xc3\\xf67\\xa3V\\\\l\\xfe,\\x96\\x9b\\xeb\\x8b\\xc2\\xaf\\xe3\\xec\\x8d\\xd1\\xd6J\\xde\\x8c]?\\rs\\x9a\\xa14\\xd1 \\xbf\\xc7A\\x9d?\\xc1\\xf5e\\xa2\\x88\\xab\\x1a\\xc2\\x04\"\\x0f+\\xf91\\ne#GR~+\\xc3;\\x99\"Wc\\x18\\xdf\\x05U\\xfc\\xaa\\x9d\\xf7\\xd6v\\x0eC\\xf9\\x15a17tb\\x86\\xb3_\\xa2o\\xa8\\xf0\\xfc\\x9e\\xe1\\x03\\xa6\\xc1h\\xcf\\xd8\\x1b\\xb2-[LWH\\xcd\\xbcN\\x9c\\xc6\\xbe:bi\\xbf\\xf9jLQ\\x93\\xc2-\\xa5\\xc7\\xf0)\\xc2\\xab6\\xeb-d5\\x1eWZJHA\\xde\\xb1>\\x82\\xc7[[5\\xbc\\xc3\\xc9K\\xd7\\xe9\\x1d\\x1a\\xd0Q\\x8abv\\xa6\\xbd\\xc0L\\xe5\\x0ev\\xb6\\x06\\xf0\\x1e\\x99Q\\xfd^e\"o-\\x13\\xe2vWR\\xaf\\xe4\\xf4g\\xa2\\xef\\xe1\\x10\\x06'\n",
            "Address:  b'.\\x07\\x03]\\xae`\\xf6\\xb2\\x9e\\xe0\\xf1\\xa0\\xd1.b\\xde$\\xa8\\xe3\\xee\\xe0\\xc7\\x1a\\x91\\x00\\xe5^>\\xe9\\x1c\\xffn\\xf4\\x9c\\xc4?{Do\\x15\\xee:kHP\\xd22\\xf9\\r\\x8aK?\\xc4\\xc8\\xc4\\xa3\\x1f \\xc5AU7\\x94\\xdd\\x07\\x0f\\x96N\\x1e\\xdb\\xdf\\xd4\\xf0\\xbe\\x96\\\\\\x13u2\\xa0\\xd5d\\xa7\\x17\\x97\\x0f\\x05}\\xd3\\x80c!\\x13+x\\xdf\\xdd\\t\\x96\\x9cR\\xf1=\\xb7X\\xbd\\x99\\x7f\\xf1UEH\\xcf\\xa9\\xc6\\xac\\xca\\x85\\xb7\\x12\\x18\\xa6\\x98\\x9a\\xc1z\\x8aM\\x99b\\xf5,4\\x04q \\x8d\\xee{\\xf3\\xbc\\xf4?J\\x07\\xfb\\t\\xe6o\\xea\\xfbc\\xfb\\x07\\xae`5\\x97\\xcd\\x8e@8\\xe8U\\x8d\\x14-\\x8d\\x15=\\xe3\\x01\\x99\\xe7\\xda[$s\\xbaF\\xfeA\\xf8\\xe9\\x04 U\\xf7T\\xe8\\x9a\\xc8M\\xeaXa%\\xc4cx\\xac\\tN\\xfe\\xa3S\\xcd\\x81\\x1fl}qTa\\x19\\xd9\\xf8]\\xc39Z\\xbb\\x90$0=\\x97\\x9f:\\x99;\\xb5\\x18\\x95\\x95_\\xd6lQQ\\x03Oj\\xc6\\xb2\\xaac\\xcc\\x1e\\xf2\\xf5J\\x93\\xf3\\xe7W'\n",
            "Gender:  b'\\x18\\xf0\\xbd\\x99@\\xe1\\xfc#\\x8e\\x94\\x1a\\xbbxl\\x89\\xa0M\\x9a\\xa47`2\\xc8\\x15\\xbbe\\'C\\xa5i\\xf2u\\nkh\\xd3\\xef\\x8a\\x1aZE2Ei\\xad\\xfd\\r\\xf5\\x05\\xd8\\x96S\\xc9\\xb8\\x12\\xf4\\xd4b\\x14\\xb9/\\xbaq\\xd71.\\xbb<\\x8f;\\x96Ny\\x1bg\\x04\\x8a\\x95\\xab{J\\xf2\\xa6\\xaf\\xa2A\\xe6K\\xe6\\x18\\xa2\\xef\\x87p3\\xc9\\x901\\xf3\\xde\\xab\\xc0@h\\n\\xd0\\xb8c\\xf6\\x04+8\\xd4\\x1cB\\xd4`j\\x0cO\\xd35k~\\xcc\\x86\\x89\\xed\\x0b\\x040\\xeb\\xb7\\x95^OS\\x1bh\\xd7*n\\x14\\x1f\\xe6\\x05\\xa3\\xf7\\xfc\\x1c\\xf6\\xa5\\xef^t\\xee\\x97{Z\"\\xa9\\xd9\\xaf\\xc5\\xf8Pf\\xe2\\x81\\xc5D@\\xbd\\x99\\xf7\\x91\\xbf\\x88\\x8a\\xe7\\xdc2\\xb11\\xf2\\x1b\\xd4\\xa1\\x974sb\\xecBa\\x812\\x96\\xa5K\\xdf\\x9f\\x1f\\x9b\\xc55J\\x94Q\\xb7W`\\xc3f\\x91\\xf6\\x14\\xdf;\\x8f\\xff\\xc02\\xb4\\x84\\xf4D\\xd5m4\\xb4\\n\\x0es\\'\\xd4\\xaa\\x00\\x0c\\xe4\\xef\\x9c\\xcc\\xe6\\x7f\\xd6\\t\\xa3EI\\x00\\x95\\xe31\\x04\\xe4'\n",
            "Date of Birth:  b'l\\xddb@\\xc4\\xc0\\xbbL4\\xd7\\x01R.\\xe5lJ\\x89\\xc3L\\x14\\x16D8\\xa3\\x1c7\\'\\xf8\\xed\\xb1\\xa3EL\\x12i\\xa2\\xd4\\xe5&5\\x14\\xbc`\\xb8\\x13k\\xe3tsu0DK0UP\\x05\\xf5\\x04y\\xa3\\x94\\xfc|\\xf5\\xb5Uf\"\\xf6\\x19\\xef\\xc0\\x1d\\xa4\\xd6_t\\xa3)A\\x97\\x8b\\r\\x8b3\\x18:\\xc8\\x1fw\\xab5u\\xea\\xcb\\xe2\\\\5\\xdd\\x86i\\x19/\\x9c\\xa6\\xf5j\\t\\x97W\\x85\\xc4\\xbf`^\\xacV$\\x8b\\x85k\\xb1\\xfc\\x84\\x0f\\x93Z\\xa5\\xea\\xedb\\xf3\\x90\\x03\\xc3\\x16\\t\\xc0\\xber\\xd9 \\x8dXt\\x98\\x1cp\\xb5U\\xcclY{S\\xf0\\xael\\x9boG\\x8b\\x9e\\xd0\\x80\\xf3k\\xc9\\xf3!\\x7f\\xa2\\xc8\\xc1\\xed\\x16-z\\xe3\\x9d\\xf4\\xaf\\xaf\\xd6\\x9cq\\x85\\xc5\\x81o\\x97j\\xce?o,\\xb3\\x90\\xc3\\xfa\\xc4\\xa3\\xab\\xbf\\xe8(\\xae\\x9bL>\\xc3y\\x95\\x9fd\\xc5\\xb69u\\xb0Ia9\\xb7\\xab\\x9dTA\\xc4-l\\xcf\\xdd\\x0e\\x00\\xd1=\\xabi&\\xcd\\x96\\x18\"U\\xbc\\xf4\\x05\\x81\\xb2\\xe0\\x88\\xf4\\xbe<'\n",
            "Phone number:  b'\\x17U\\xd5oF\\x9c\\xbc\\xb9Dm\\xac\\xb5zm\\xbf\\xbc\\xd9f\\xab\\xb1N\\x8a\\xd3\\x14\\xb4\\x8e\\xad\\xa1({\\x19\\xff\\xf3\\xee\\xdd=.\\x05@\\xf3a*\\xb1\\xf9Bl\\x9e\\xe7\\xbaY\\xcf\\xa5\\x9c\\t\\x04\\xce\\xe5\\x92\\xecH \\xeb\\xcbG&\\xbf\\x8dJ\\xe4\\xb3w\\x14\\xdb\\xda8\\xadr\\x08\\x1b\\x07\\x18\\xd05\\xcd\\xd3\\x17\\x8e\\xac\\\\:\\xa5\\x06<\\xbeM5l\\x1e\\x9e\\xc1\\xed\\xe1\\x05\\x9az\\x96\\x8ee\\xe4\\x9e\\x00&&\\xe3\\x9c \\x19\\xa7|\\xc9\\xb2z\\xf2*\\xb9Y\\xcf#f\\x0f\\x8e\\x04(\\xbe\\'\\xa2\\xc5\\x0f\\xd8\\x15}\\x0b\\xb8\\xd1\\xe2\\xcce\\xc7\\x91q\\xf6\\x88n\\x02(\\x92\\xd5\\x8b\\x85\\xe3~g\\x03\\xbf\\x88]2\\xbcf4\\x0ehY\\xf3:\\x03i\\xe0\\x13\\x01\\xf8\\xd3,\"*Y\\x9dR\\xeb\\xa9r\\xf5\\x13\\xc6\\x189T\\xe2\"9\\xb8\\xd6h%\\x03\\x14dT[\\xffz#\\xbf^#&\\xc5|\\xed\\xbfJ\\xf2\\xa5\\xa4|\\x89Z2f\\x1cA\\xb2.E\\x1b\\x93u\\xf0N\\xddtJ~\\x96fD\\xa8u\\x9d\\xa7\\xf7\\x80\\xc8(\\xf6:'\n",
            "\n",
            "Encrypted financial information\n",
            "Employment status:  b'}\\x86\\xba^+\\x03\\x10%pw\\xce\\x83\\xb5\\x97B\\xa1\\x89/\\x96Xv\\x0f\\xc4\\xb0\\xd2[\\x9a\\xfbw\\xa8\\x9c?*\\x8f\\xd9g\\xab\\x96+\\x1bi\\xc9\\x85\\xff=r\\x87\\xc3\\xc7\\x15\\xe7\\x9a\\x0fzE\\xb7\\xa6(\\xa3$\\xa6\\x84^t\\xa8\\xf7\\xe5\\x1aa\\x9c\\xfe\\xa9\\xc6\\x83\\x16_\\xae\\x9b\\xb9_?\\x95\\'\\\\\\\\\\'\\x1e\\xec\\x07w~\\x98\\x02D\\x19@\\xfdk\\x0b\\x8e\\xbb1f\\xb9CPQ\\x10\\xfbQ<\\x98\\xd4\\x0b\\xe5|\\x8cbq\\x9dWz\\xc8\\xa9\\x06\\xfc\\x82y\\x840\\x8a\\x91\\x05XT\\xf8\\x99\\xfcJ\\n2O\\x1eA]\\xd7N\\x16\\xb0\\xac\\xc4\\xf6\\x85a!\\xde\\x1eO\\xf7p\\x1c\\x89\\x92\\x13\\xccF\\xcd\"\\x7f\\x92xnN#\\xf9B-\\xc3A\\xda\\xf1\\x8e>\\x1dZ$\\x96\\xe2s,\\x98i\\xc6\\xd7\\x0c2\\xb6\\xdb\\x16\\xd4\\xd6\\x1e\\xc2\\xbf\\x84\\xdc\\xcb\\xe1Y\\x97 a\\x10\\xf3\\xac\\xf9\\x05\\xdfEt\\xec\\xd2=\\xf8\\xf2\\xf5\\xec\\x07<\\x8c\\x8e\\xcb\\x19\\x01\\x13\\x92\\x7f\\x0c|\\xa6\\xc3\\xf4\\xf5uw\\xedm\\xa0j<\\xccT\\xe4\\xf4*\\x15'\n",
            "Salary b'f\\x1eP\\x94\\xb9D\\xb1\\xda\\xa0\\xb3K?\\xba\\xddCCj\\xe5\\xb0u \\x0fM\\x16\\xf1M\\x80J\\xf9\\x04`3\\xc9\\xfeR\\xc3\\x8cn\\xee\\xf9S\\x99\\x9fK\\xa5\\x06\\xd6t\\x0c\\xa1 \\x15\\xce\\xc9$\\x079\\x08\\xce\\xe3-8\\xe5\\xb5\\x1c\\xb5\\x9b\\x8d4\\x83\\x8d\\xef\\xc1\\xa5[\\x89q<\\xe9\\x9f\\x7f\\x828\\xb3<I\\xf1\\xf05X,\\xd9\\xd64\\x13\\xe1T\\x95\\xaaV\\xa0\\xd6m\\xd9\\xbd\\x10H\\x0e\\x0c\\xde\\x87\\xf1\\xff\\x9a\\xec\\x0cS\\xc5\\xdcp\"\\x86xt\\x88P\\xa7\\x96\\xca\\xd0\\xa4\\x99\\xafgV\\xa1G\\x1f\\x9d\\xc6G\\xc2\\xe5D\\xe1\\xbf\\x893\\xcc\\xca%\\xb85r@\\x0c\\xa9>\\xeb\\x98<$\\xf4\\x7f\\xb9\\xb3\\x96\\xcaXCt;\\xdf\\xa2c[\\xb7\\xc8\\xd9Y):^Z\\xed-\\x087\\xef>I\\xbe\\x11\\xe8\\xe2\\xd3\\xdd\\x8a\\x141\\xc9O\\xd4RYn\\xeap\\x89d@h\\x00d\\xd4e\\xf9\\xf4YR\\xd9\\xa7\"\\xb7ED\\x8eg2\\xe4\\xefKG!z\\xc6l\\x1c\\x83\\xc6#\\xf3\\x90\\x87\\x17\\x01\\xea\\xec\\x970\\x96\\x9dgw\\x81\\xca'\n",
            "Existing Loan:  b':\\x93\\xa8\\x0e\\xd3\\x9fJqF\\xc7\\xf2\\xbe\\x86nv\\xdah\\x0fn\\xf5\\xa8r\\x9a\\x15?\\x15\\n\\xc0\\xdf\\xcf\\x1e\\xfa\\xf9\\xba]\\x8a\\x1a\\xba\\xf5Qc\\xff\\xb8\\x8e\\xc4\\x1fC\\xd1\\xdckO\\x91\\xb7H)\\x7f\\xc9d\\xcc\\x13\\xa4\\x01\\xf31\\xa2\\x80\\x1f9%K\\xd3\\xf1$\\x9ai\\xd05\\x884/\\xc2\\xa3\\xfd\\xc5eI\\xc2@\\x11=E\\x8b\\xe1\\x99\\x9a)L\"\\x87c\\xaad\\xe1_\\x9d#qN\\xf2\\xf2\\xee\\xc7\\xda\\xa9|ul\\xa43\\xc2M($\\xc4\\xae\\xf5zlY\\x86W\\t\\xbb\\xb6\\x0b\\x8e\\xb2`-\\xc41$\\xd8\\xc4;\\xf4\\x04\\xe4feV\\xd5\\xee\\xbdt\\x17\\xa6\\xd7\\xa7\\xe9\\xd8\\xb9\\xd5\\xac\\x83s\\xdb*\\xa7\\x9e\\xf9\\xd2\\xa5R=P\\xc1$iK\\xb0\\xaf\\x85\\x03]\\xcd\\xc2Y\\x8e\\x1e)&M!\\xe8E\\x80U\\xb6DS}\\xc8t\\xb0\\x90\\x12a\\xb2\\xb97g>*#\\x8c\\x1f\\x92\\xf4\\xd7S\\xafS\\xc3D\\xdbD\\x02V\\xe2\\xd9\\xdd\\xaa\\x1bQ\\xf4\\x11\\xd0\\x07YH\\xb5\\xa9+\\xeb\\xeb _\\x1e\\xa6\\xbd8\\x84\\xc4{N'\n",
            "Collateral:  b'5\\x00i\\xc5\\xab\\x13C!ZV6\\x01\\xb7\\x15\\xe99\\xaa\\x9f\\xd1g\\x1f^\\tem\\xdaF\\xa7\\xca\\x0c\\x88*\\x8c\\x8b\\x02\\x1d\\xd79\\xa6\\xe1(\\xd0\\xbe\\x18U\\xcbql\\xa4\\xd8\\xe8D\\xf2=\\x90\\xf1\\x0b6k Um\\xe9\\xf8\\xe2\\x18\\xa9\\xd48\\x07\\x144`\\xcf\\xe4\\x9f\\x08\\xa3!\\xec\\xa4\\xfb\\xdbEm|V\"=\\x86\\xd87\\xc7\\xb6D6uk\\xea\\xd5\\xfd\\x1f\\xd2\\xa6\\x10\\x13T\\xf4$p\\xfc\\xed\\x14Q\\x88\\xd2\\xf0\\xef\\x07\\xc2\\xa0;G]\\xcf\\xb6\\xa2\\x96\\x82,\\xd2$]\\x04 N \\xf4\\xbc\\x97\\xb8n\\x81\\xba\\xef\\xa5\\x82RZ\\xcc\\x0cL/\\xd6\\x83,\\xde\\xc9\\xec\\r^\\xe0b\\xa0\\xd5R\\xdev\\x02\\xbe\\x00.`\\xa1\\x81\\xb3)\\xa7\\x1bLp\\xb0\\xb6\\xd1\\xf8\\xadZ\\xd0\\xe3\\xab\\x83,\\xc1UR1\\xab\\x8a\\xcaB6\\t\\xdf2^0H\\xde\\xf1\\xa1\\xa8\\xab\\xb9!\\xa9\\xa8\\xc4\\x85\\x9b\\x8d\\rq4\\x80\\x9a-b\\x9d\\xe8\\xf0\\xb9\\x14\\x0b\\xf4\\xcfKu\\x9d\\x15\\xa5\\xcb#\\x94\\xa6>\\xdat_pm\\xc7\\xbbG$\\xc4\\xa5'\n"
          ]
        }
      ]
    },
    {
      "cell_type": "code",
      "source": [
        "# Step 3.3: Bank decrypts encrypted information using his private key\n",
        "\n",
        "with open('CIBIL_private_key.pem', 'rb') as key_file:\n",
        "    CIBIL_private_key = serialization.load_pem_private_key(\n",
        "        key_file.read(),\n",
        "        password=None  # You may need to provide a password if the key is password-protected\n",
        "    )\n",
        "\n",
        "dec_name = CIBIL_private_key.decrypt(enc_name,padding.OAEP(mgf=padding.MGF1(algorithm=hashes.SHA256()), algorithm=hashes.SHA256(), label=None))\n",
        "dec_address = CIBIL_private_key.decrypt(enc_address,padding.OAEP(mgf=padding.MGF1(algorithm=hashes.SHA256()), algorithm=hashes.SHA256(), label=None))\n",
        "dec_gender = CIBIL_private_key.decrypt(enc_gender,padding.OAEP(mgf=padding.MGF1(algorithm=hashes.SHA256()), algorithm=hashes.SHA256(), label=None))\n",
        "dec_dateofbirth = CIBIL_private_key.decrypt(enc_dateofbirth,padding.OAEP(mgf=padding.MGF1(algorithm=hashes.SHA256()), algorithm=hashes.SHA256(), label=None))\n",
        "dec_phonenumber = CIBIL_private_key.decrypt(enc_phonenumber,padding.OAEP(mgf=padding.MGF1(algorithm=hashes.SHA256()), algorithm=hashes.SHA256(), label=None))\n",
        "\n",
        "dec_employmentstatus = CIBIL_private_key.decrypt(enc_employmentstatus,padding.OAEP(mgf=padding.MGF1(algorithm=hashes.SHA256()), algorithm=hashes.SHA256(), label=None))\n",
        "dec_salary = CIBIL_private_key.decrypt(enc_salary,padding.OAEP(mgf=padding.MGF1(algorithm=hashes.SHA256()), algorithm=hashes.SHA256(), label=None))\n",
        "dec_existingloan = CIBIL_private_key.decrypt(enc_existingloan,padding.OAEP(mgf=padding.MGF1(algorithm=hashes.SHA256()), algorithm=hashes.SHA256(), label=None))\n",
        "dec_collateral = CIBIL_private_key.decrypt(enc_collateral,padding.OAEP(mgf=padding.MGF1(algorithm=hashes.SHA256()), algorithm=hashes.SHA256(), label=None))\n",
        "\n",
        "print(\"\\nDecrypted personal identifiable information\")\n",
        "print(\"Name: \", dec_name.decode('utf-8'))\n",
        "print(\"Address: \", dec_address.decode('utf-8'))\n",
        "print(\"Gender: \", dec_gender.decode('utf-8'))\n",
        "print(\"Date of Birth: \", dec_dateofbirth.decode('utf-8'))\n",
        "print(\"Phone number: \", dec_phonenumber.decode('utf-8'))\n",
        "\n",
        "print(\"\\nDecrypted financial information\")\n",
        "print(\"Employment status: \", dec_employmentstatus.decode('utf-8'))\n",
        "print(\"Salary\", dec_salary.decode('utf-8'))\n",
        "print(\"Existing Loan: \", dec_existingloan.decode('utf-8'))\n",
        "print(\"Collateral: \", dec_collateral.decode('utf-8'))"
      ],
      "metadata": {
        "colab": {
          "base_uri": "https://localhost:8080/"
        },
        "id": "4zPkShCtR89i",
        "outputId": "1cc9d8b0-339f-4ae5-b6ef-477fe08ca6ba"
      },
      "execution_count": null,
      "outputs": [
        {
          "output_type": "stream",
          "name": "stdout",
          "text": [
            "\n",
            "Decrypted personal identifiable information\n",
            "Name:  Mahesh Gupta\n",
            "Address:  Abc, Gurgaon, Delhi\n",
            "Gender:  male\n",
            "Date of Birth:  12/10/1991\n",
            "Phone number:  9898001123\n",
            "\n",
            "Decrypted financial information\n",
            "Employment status:  full time employee\n",
            "Salary 12000000\n",
            "Existing Loan:  50000\n",
            "Collateral:  home\n"
          ]
        }
      ]
    },
    {
      "cell_type": "code",
      "source": [
        "#Step 3.3: Compute CIBIL Score\n",
        "CIBIL_score = 550"
      ],
      "metadata": {
        "id": "1z5KgjohSJ6W"
      },
      "execution_count": null,
      "outputs": []
    },
    {
      "cell_type": "code",
      "source": [
        "#Step 3.4 CIBIL agency requests for Cus_pub_key\n",
        "with open('Customer_public_key.pem', 'rb') as key_file:\n",
        "    Customer_public_key = serialization.load_pem_public_key(key_file.read())\n",
        "\n",
        "\n",
        "#Step 3.5: CIBIL agency encrypts score with Cus_pub_key\n",
        "#Step 3.6: Sends encrypted score to customer\n",
        "enc_score = CIBIL_public_key.encrypt(str(CIBIL_score).encode('utf-8'),padding.OAEP(mgf=padding.MGF1(algorithm=hashes.SHA256()), algorithm=hashes.SHA256(), label=None))\n",
        "print(\"\\nEncrypted CIBIL score\", enc_score)"
      ],
      "metadata": {
        "colab": {
          "base_uri": "https://localhost:8080/"
        },
        "id": "4muNg7hhSMGd",
        "outputId": "e55eeda6-9810-4932-938a-5ac6dec57edd"
      },
      "execution_count": null,
      "outputs": [
        {
          "output_type": "stream",
          "name": "stdout",
          "text": [
            "\n",
            "Encrypted CIBIL score b't\\xb7\\xbd9\\x1bD\\x058\\x81F\\t\\xd8S\\xb8~P\\xde\\xf2\\x9b\\x99@\\x8b)j,(\\xcf\\xa2>m\\xc6\\x02\\x8ch\\xe4\\xd5\\xbc\\x9d\\xd05\\x88O\\x0b\\xc4\\xbd\\xde\\xdd\\xaf4\\x1b-\\xa7\\xb3d\\x08V\\xff\\x0c\\xd8\\x00\\xb9\\xd2\\xd3\\xff\\xa1\\xc6j\\x96\\x9e\\x02\\xaf\\xe0g\\xec\\xbb5ea\\xdc\\x04\\xca\\xa4\\xf2h\\xc4oJX\\xc0*\\x19\\x9c\\xa7\\x9e\\xbc9\\xf1/\\xc8\\xe2\\xaaT\\x02\\xb5\\xbb[\\xd8\\xc8l\\xeey)a\\xc0\\x08\\xcf\\xe2\\xc0\\xfd\\xcf}\\xe1C\\xc7\\t\\x08\\x8b\\x14#\\x10^Gg\\xa7\\xbf[\"\\'\\xd2\\xeb\\x0b\\xba*@\\xe1I\\xc9\\xa8p\\xf8;\\xdcse\\x97i\\xe4v\\xda\\xbd:w\\xaf#x\\xf9>\\x86\\xdaNyv\\xf1\\xf4=.\\xd4\\xdc&j\\xe3J\\x1e\\x91\\x16\\xc8\\x05R\"\\x9f\\xe9\\xbaO\\xad\\'\\x7fp!\\xb3\\xc5$Q\\xf2\\x9a\\x1a\\xb8p\\xc9\\xf0\\x8c\\x08\\xf02r\\x90\\x10\\xb4\\xde\\xec\\x9a\\x91^\\x8e\\xca\\xe8s< \\xae\\xc0\\x9f\\x96\\xecDa)\\xda\\xbe\\xcfW\\xd4\\xdb\\xb2\\xa5\\xd1\\x1c\\xd4Q\\xf2\\xfa\\x8d\\xda\\xff\\x03\\xe6\\x83'\n"
          ]
        }
      ]
    },
    {
      "cell_type": "code",
      "source": [
        "# Step 3.7: Customer decrypts encrypted CIBIL score\n",
        "dec_score = CIBIL_private_key.decrypt(enc_score,padding.OAEP(mgf=padding.MGF1(algorithm=hashes.SHA256()), algorithm=hashes.SHA256(), label=None))\n",
        "print(\"\\nDecrypyted CIBIL score\", dec_score.decode('utf-8'))"
      ],
      "metadata": {
        "colab": {
          "base_uri": "https://localhost:8080/"
        },
        "id": "MW4RajaxSQQ0",
        "outputId": "99ca5925-6074-46f2-ba35-d947504e01e7"
      },
      "execution_count": null,
      "outputs": [
        {
          "output_type": "stream",
          "name": "stdout",
          "text": [
            "\n",
            "Decrypyted CIBIL score 550\n"
          ]
        }
      ]
    },
    {
      "cell_type": "markdown",
      "source": [
        "**Install Tenseal**"
      ],
      "metadata": {
        "id": "IQqTfcIthkZt"
      }
    },
    {
      "cell_type": "code",
      "source": [
        "pip install tenseal"
      ],
      "metadata": {
        "colab": {
          "base_uri": "https://localhost:8080/"
        },
        "id": "2X-XnPNMAwq-",
        "outputId": "709d78a2-cbe0-42a3-e605-42f329f425c5"
      },
      "execution_count": null,
      "outputs": [
        {
          "output_type": "stream",
          "name": "stdout",
          "text": [
            "Collecting tenseal\n",
            "  Downloading tenseal-0.3.14-cp310-cp310-manylinux_2_17_x86_64.manylinux2014_x86_64.whl (4.9 MB)\n",
            "\u001b[2K     \u001b[90m━━━━━━━━━━━━━━━━━━━━━━━━━━━━━━━━━━━━━━━━\u001b[0m \u001b[32m4.9/4.9 MB\u001b[0m \u001b[31m20.2 MB/s\u001b[0m eta \u001b[36m0:00:00\u001b[0m\n",
            "\u001b[?25hInstalling collected packages: tenseal\n",
            "Successfully installed tenseal-0.3.14\n"
          ]
        }
      ]
    },
    {
      "cell_type": "code",
      "source": [
        "def map_to_list(list1, list2):\n",
        "\n",
        "    # Initialize a list with zeros\n",
        "    caste_list = [0] * len(list2)\n",
        "\n",
        "    # Map the input caste category to the list\n",
        "    try:\n",
        "        index = list1.index(list1)\n",
        "        caste_list[index] = 1\n",
        "    except ValueError:\n",
        "        print(\"Invalid caste category.\")\n",
        "\n",
        "    return caste_list\n",
        "\n"
      ],
      "metadata": {
        "id": "BKPdyeknYA_F"
      },
      "execution_count": null,
      "outputs": []
    },
    {
      "cell_type": "code",
      "source": [
        "import tenseal as ts\n",
        "import numpy as np\n",
        "\n",
        "def context():\n",
        "    context = ts.context(ts.SCHEME_TYPE.CKKS, 8192, coeff_mod_bit_sizes=[60, 40, 40, 60])\n",
        "    context.global_scale = pow(2, 40)\n",
        "    context.generate_galois_keys()\n",
        "    return context\n",
        "\n",
        "context = context()\n",
        "\n",
        "\"\"\"\n",
        "\n",
        "Possible Categories\n",
        "Gender: {Male, Female, Transgender, Other}\n",
        "Caste Category: {Scheduled Tribe (ST), Scheduled Caste (SC), Other Backward Class (OBC), General (Unreserved), Economically Weaker Section (EWS), Other}\n",
        "Religious Belief: {Hindu, Muslim, Christian, Sikh, Jain, Buddhist, Parsi, Other}\n",
        "Sexual Orientation: {Heterosexual, Homosexual, Lesbian, Bisexual, Asexual, Other}\n",
        "Racial or Ethnic: {Kashmiri, Northeast Indian, North Indian, South Indian, East Indian, West Indian, Gujarati, Punjabi, Bengali, Other}\n",
        "\"\"\"\n",
        "\n",
        "gender = ts.plain_tensor([0, 1, 0, 0], [4, 1])  # [0, 1, 1, 0] --> [male, female, transgender, other]\n",
        "casteCat = ts.plain_tensor([1, 1, 0, 0, 0, 0], [6, 1]) # [1, 1, 0, 0, 0, 0] --> {Scheduled Tribe (ST), Scheduled Caste (SC), Other Backward Class (OBC), General (Unreserved), Economically Weaker Section (EWS), Other}\n",
        "relBel = ts.plain_tensor([0, 0, 0, 0, 0, 0, 0, 0], [8, 1])\n",
        "sexOrien = ts.plain_tensor([0, 0, 0, 0, 0, 0], [6, 1])\n",
        "racial = ts.plain_tensor([1, 1, 0, 0, 0, 0, 0, 0, 0, 0], [10, 1])\n",
        "\n",
        "# Encrypt the data\n",
        "encrypted_gender = ts.ckks_tensor(context, gender)\n",
        "encrypted_casteCat = ts.ckks_tensor(context, casteCat)\n",
        "encrypted_relBel = ts.ckks_tensor(context, relBel)\n",
        "encrypted_sexOrien = ts.ckks_tensor(context, sexOrien)\n",
        "encrypted_racial = ts.ckks_tensor(context, racial)\n",
        "\n",
        "categories = [\"Scheduled Tribe\", \"Scheduled Caste\", \"Other Backward Class\", \"General\", \"Economically Weaker Section\", \"Other\"]\n",
        "gender = [\"Male\", \"Female\", \"Transgender\", \"Other\"]\n",
        "ReligiousBelief= [\"Hindu\", \"Muslim\", \"Christian\", \"Sikh\", \"Jain\", \"Buddhist\", \"Parsi\", \"Other\"]\n",
        "SexualOrientation= [\"Heterosexual\", \"Homosexual\", \"Lesbian\", \"Bisexual\", \"Asexual\", \"Other\"]\n",
        "Racial= [\"North Indian\", \"South Indian\", \"East Indian\", \"West Indian\", \"Kashmiri\", \"Northeast Indian\", \"Gujarati\", \"Punjabi\", \"Bengali\", \"Other\"]\n",
        "\n",
        "print(\"Persional Identifiable Information\")\n",
        "\n",
        "input_name = input(\"Enter Name: \")\n",
        "input_address = input(\"Enter address: \")\n",
        "input_dateofbirth = input(\"Enter date of birth \")\n",
        "input_phonenumber = input(\"Enter phonenumber: \")\n",
        "\n",
        "print(\"\\n\\nSenstitive Information\")\n",
        "input_caste = input(\"Enter caste category (Scheduled Tribe/Scheduled Caste/Other Backward Class/General/Economically Weaker Section/Other): \")\n",
        "input_gender = input(\"Enter gender (Male/Female/Transgender/Other): \")\n",
        "input_relBel = input(\"Enter religion believe (Hindu/Muslim/Christian/Sikh/Jain/Buddhist/Parsi/Other): \")\n",
        "input_sexOrien = input(\"Enter sexual orientation (Heterosexual/Homosexual/Lesbian/Bisexual/Asexual/Other): \")\n",
        "input_racial = input(\"Enter ethinicity (North Indian/South Indian/East Indian/West Indian/Kashmiri/Northeast Indian/Gujarati/Punjabi/Bengali/Other): \")\n",
        "\n",
        "print(\"\\n\\nfinancial Information\")\n",
        "input_salary = input(\"Enter salary: \")\n",
        "input_loanamount = input(\"Enter loan amount: \")\n",
        "input_typeOfloan = input(\"Enter type of loan \")\n",
        "\n",
        "\n",
        "\n",
        "output_caste = map_to_list(input_caste, categories)\n",
        "output_gender = map_to_list(input_gender, gender)\n",
        "output_relBel = map_to_list(input_relBel, ReligiousBelief)\n",
        "output_sexOrien = map_to_list(input_sexOrien, SexualOrientation)\n",
        "output_racial = map_to_list(input_racial, Racial)\n",
        "\n",
        "#print(f\"Output list: {output_caste}\")\n",
        "#print(f\"Output list: {output_gender}\")\n",
        "\n",
        "encrypted_input_gender = ts.ckks_tensor(context, ts.plain_tensor(output_gender, [len(output_gender), 1]))\n",
        "encrypted_input_casteCat = ts.ckks_tensor(context, ts.plain_tensor(output_caste, [len(output_caste), 1]))\n",
        "encrypted_input_relBel = ts.ckks_tensor(context, ts.plain_tensor(output_relBel, [len(output_relBel), 1]))\n",
        "encrypted_input_sexOrien = ts.ckks_tensor(context, ts.plain_tensor(output_sexOrien, [len(output_sexOrien), 1]))\n",
        "encrypted_input_racial = ts.ckks_tensor(context, ts.plain_tensor(output_racial, [len(output_racial), 1]))\n",
        "\n"
      ],
      "metadata": {
        "colab": {
          "base_uri": "https://localhost:8080/"
        },
        "id": "WFr8A71n34yI",
        "outputId": "4a94906e-2884-4e79-d9f3-015a24179237"
      },
      "execution_count": null,
      "outputs": [
        {
          "name": "stdout",
          "output_type": "stream",
          "text": [
            "Persional Identifiable Information\n",
            "Enter Name: Damini\n",
            "Enter address: 12 Queens road, coventry\n",
            "Enter date of birth 18/9/1995\n",
            "Enter phonenumber: 078854515215\n",
            "\n",
            "\n",
            "Senstitive Information\n",
            "Enter caste category (Scheduled Tribe/Scheduled Caste/Other Backward Class/General/Economically Weaker Section/Other): General\n",
            "Enter gender (Male/Female/Transgender/Other): Female\n",
            "Enter religion believe (Hindu/Muslim/Christian/Sikh/Jain/Buddhist/Parsi/Other): Muslim\n",
            "Enter sexual orientation (Heterosexual/Homosexual/Lesbian/Bisexual/Asexual/Other): Homosexual\n",
            "Enter ethinicity (North Indian/South Indian/East Indian/West Indian/Kashmiri/Northeast Indian/Gujarati/Punjabi/Bengali/Other): West Indian\n",
            "\n",
            "\n",
            "financial Information\n",
            "Enter salary: 28500\n",
            "Enter loan amount: 14000\n",
            "Enter type of loan Personal\n"
          ]
        }
      ]
    },
    {
      "cell_type": "code",
      "source": [
        "print(\"Encrypted sensitive information\\n\")\n",
        "print(\"encrypted_gender: \", encrypted_input_gender)\n",
        "print(\"encrypted Caste : \", encrypted_input_casteCat)\n",
        "print(\"encrypted_religous belief: \", encrypted_input_relBel)\n",
        "print(\"encrypted sexual orientation : \", encrypted_input_sexOrien)\n",
        "print(\"encrypted_ethinicity: \", encrypted_input_racial)\n"
      ],
      "metadata": {
        "colab": {
          "base_uri": "https://localhost:8080/"
        },
        "id": "Yw1IhuwLEMQj",
        "outputId": "5f623ba9-1459-4dc6-da80-f2b20cf83ea6"
      },
      "execution_count": null,
      "outputs": [
        {
          "output_type": "stream",
          "name": "stdout",
          "text": [
            "Encrypted sensitive information\n",
            "\n",
            "encrypted_gender:  <tenseal.tensors.ckkstensor.CKKSTensor object at 0x7d80b0209540>\n",
            "encrypted Caste :  <tenseal.tensors.ckkstensor.CKKSTensor object at 0x7d80b020af50>\n",
            "encrypted_religous belief:  <tenseal.tensors.ckkstensor.CKKSTensor object at 0x7d80b020b1c0>\n",
            "encrypted sexual orientation :  <tenseal.tensors.ckkstensor.CKKSTensor object at 0x7d80b020ac80>\n",
            "encrypted_ethinicity:  <tenseal.tensors.ckkstensor.CKKSTensor object at 0x7d80b020a860>\n"
          ]
        }
      ]
    },
    {
      "cell_type": "code",
      "source": [
        "# Check Gender and Caste (Eligiblity Check)\n",
        "\n",
        "SoP_gender = encrypted_gender * encrypted_input_gender\n",
        "SoP_gender = SoP_gender.sum(axis=0)\n",
        "check_gender = round(SoP_gender.decrypt().tolist()[0])\n",
        "if check_gender==1:\n",
        "  print(\"True\")\n",
        "else:\n",
        "  print(\"False\")\n",
        "\n",
        "SoP_casteCat = encrypted_casteCat * encrypted_input_casteCat\n",
        "SoP_casteCat = SoP_casteCat.sum(axis=0)\n",
        "check_casteCat = round(SoP_casteCat.decrypt().tolist()[0])\n",
        "if check_casteCat==1:\n",
        "  print(\"True\")\n",
        "else:\n",
        "  print(\"False\")\n",
        "\n",
        "SoP_relBel = encrypted_relBel * encrypted_input_relBel\n",
        "SoP_relBel = SoP_relBel.sum(axis=0)\n",
        "check_relBel = round(SoP_relBel.decrypt().tolist()[0])\n",
        "\n",
        "if check_relBel==1:\n",
        "  print(\"True\")\n",
        "else:\n",
        "  print(\"False\")\n",
        "\n",
        "SoP_sexOrien = encrypted_sexOrien * encrypted_input_sexOrien\n",
        "SoP_sexOrien = SoP_sexOrien.sum(axis=0)\n",
        "check_sexOrien = round(SoP_sexOrien.decrypt().tolist()[0])\n",
        "if check_sexOrien==1:\n",
        "  print(\"True\")\n",
        "else:\n",
        "  print(\"False\")\n",
        "\n",
        "SoP_racial = encrypted_racial * encrypted_input_racial\n",
        "SoP_racial = SoP_racial.sum(axis=0)\n",
        "check_racial = round(SoP_racial.decrypt().tolist()[0])\n",
        "if check_racial==1:\n",
        "  print(\"True\")\n",
        "else:\n",
        "  print(\"False\")\n"
      ],
      "metadata": {
        "colab": {
          "base_uri": "https://localhost:8080/"
        },
        "id": "GxEiODE51HNG",
        "outputId": "7e4db8c0-ce11-412c-d483-d7115d59d74c"
      },
      "execution_count": null,
      "outputs": [
        {
          "output_type": "stream",
          "name": "stdout",
          "text": [
            "False\n",
            "True\n",
            "False\n",
            "False\n",
            "True\n"
          ]
        }
      ]
    },
    {
      "cell_type": "code",
      "source": [
        "#Loan approval decision\n",
        "# Check if the result is equal to 1\n",
        "\n",
        "print(\"Encrypted sensitive information\\n\")\n",
        "print(\"encrypted_gender: \", encrypted_input_gender)\n",
        "print(\"encrypted Caste : \", encrypted_input_casteCat)\n",
        "print(\"encrypted_religous belief: \", encrypted_input_relBel)\n",
        "print(\"encrypted sexual orientation : \", encrypted_input_sexOrien)\n",
        "print(\"encrypted_ethinicity: \", encrypted_input_racial)\n",
        "\n",
        "if check_gender == 1 or check_casteCat == 0:\n",
        "    print(\"\\n The applicant is not eligible for any government beneficial scheme, so he qualifies for a higher interest rate. !!\")\n",
        "else:\n",
        "    print(\"\\nThe applicant is eligible for government beneficial scheme, so he qualifies for a low interest rate. !!\")"
      ],
      "metadata": {
        "colab": {
          "base_uri": "https://localhost:8080/"
        },
        "id": "2AOKDM3v5KXJ",
        "outputId": "47d48e34-aa17-4903-b779-39ac6ac6cb95"
      },
      "execution_count": null,
      "outputs": [
        {
          "output_type": "stream",
          "name": "stdout",
          "text": [
            "Encrypted sensitive information\n",
            "\n",
            "encrypted_gender:  <tenseal.tensors.ckkstensor.CKKSTensor object at 0x7d80b0209540>\n",
            "encrypted Caste :  <tenseal.tensors.ckkstensor.CKKSTensor object at 0x7d80b020af50>\n",
            "encrypted_religous belief:  <tenseal.tensors.ckkstensor.CKKSTensor object at 0x7d80b020b1c0>\n",
            "encrypted sexual orientation :  <tenseal.tensors.ckkstensor.CKKSTensor object at 0x7d80b020ac80>\n",
            "encrypted_ethinicity:  <tenseal.tensors.ckkstensor.CKKSTensor object at 0x7d80b020a860>\n",
            "\n",
            "The applicant is eligible for government beneficial scheme, so he qualifies for a low interest rate. !!\n"
          ]
        }
      ]
    },
    {
      "cell_type": "code",
      "source": [
        "#Generate Loan details/documents\n",
        "\n",
        "import random\n",
        "import string\n",
        "\n",
        "def generate_credit_limits():\n",
        "    return random.randint(1000, 10000)\n",
        "\n",
        "def generate_loan_details():\n",
        "    loan_types = ['Home Loan', 'Car Loan', 'Personal Loan']\n",
        "    return {\n",
        "        'Loan Type': random.choice(loan_types),\n",
        "        'Loan Amount': random.randint(5000, 50000),\n",
        "        'Interest Rate': round(random.uniform(2, 10), 2),\n",
        "        'Loan Duration (months)': random.randint(12, 60)\n",
        "    }\n",
        "\n",
        "# Generate information for an approved loan\n",
        "account_number = enc_account_num\n",
        "account_type = random.choice(['Savings', 'Checking'])\n",
        "customer_name = enc_name  # Replace with actual customer name\n",
        "customer_id = enc_customer_id\n",
        "address = enc_address\n",
        "gender= enc_gender\n",
        "dateofbirth = enc_dateofbirth\n",
        "phone_number = enc_phonenumber\n",
        "cibil_score = enc_score\n",
        "credit_limits = generate_credit_limits()\n",
        "loan_details = generate_loan_details()\n",
        "\n",
        "\n",
        "\n",
        "# Construct the generated information as a string\n",
        "loan_information = f\"\"\"Persional Details:\n",
        "Account Number: {account_number}\n",
        "Account Type: {account_type}\n",
        "Customer Name: {customer_name}\n",
        "Customer ID: {customer_id}\n",
        "Address: {address}\n",
        "Phone Number: {phone_number}\n",
        "CIBIL Score: {cibil_score}\n",
        "Credit Limits: {credit_limits}\n",
        "\n",
        "Loan Details:\n",
        "Loan Type: {loan_details['Loan Type']}\n",
        "Loan Amount: {loan_details['Loan Amount']}\n",
        "Interest Rate: {loan_details['Interest Rate']}\n",
        "Loan Duration (months): {loan_details['Loan Duration (months)']}\n",
        "\"\"\"\n",
        "\n",
        "# Write the information to a file\n",
        "file_path = 'loan_information.txt'\n",
        "with open(file_path, 'w') as file:\n",
        "    file.write(loan_information)\n",
        "\n",
        "print(f\"Loan information has been written to {file_path}\")"
      ],
      "metadata": {
        "colab": {
          "base_uri": "https://localhost:8080/"
        },
        "id": "9fOwiHqb5aK8",
        "outputId": "c0d0fe65-ff6b-4db8-ebd6-d1e58d89991a"
      },
      "execution_count": null,
      "outputs": [
        {
          "output_type": "stream",
          "name": "stdout",
          "text": [
            "Loan information has been written to loan_information.txt\n"
          ]
        }
      ]
    },
    {
      "cell_type": "code",
      "source": [
        "import ast\n",
        "import base64\n",
        "import hashlib\n",
        "from cryptography.hazmat.primitives import serialization\n",
        "from cryptography.hazmat.primitives.asymmetric import padding, rsa\n",
        "\n",
        "def decrypt_and_verify(filename):\n",
        "    with open(filename, \"r\") as file:\n",
        "        data = file.read()\n",
        "    #print(data)\n",
        "    # Extracting the value of the \"Account Number\" field using ast.literal_eval\n",
        "    try:\n",
        "        account_number_str = data.split(\"Account Number:\")[1].split(\"Account Type:\")[0].strip()\n",
        "        account_number = ast.literal_eval(account_number_str)\n",
        "        customer_name_str = data.split(\"Customer Name:\")[1].split(\"Customer ID:\")[0].strip()\n",
        "        customer_name = ast.literal_eval(customer_name_str)\n",
        "\n",
        "    except (IndexError, ValueError, SyntaxError) as e:\n",
        "        print(f\"Error extracting account number: {e}\")\n",
        "        return None\n",
        "\n",
        "    print(customer_name)\n",
        "    # Decrypt the data using the private key\n",
        "    decrypted_account = Customer_private_key.decrypt(account_number,padding.OAEP(mgf=padding.MGF1(algorithm=hashes.SHA256()),algorithm=hashes.SHA256(),label=None,))\n",
        "    print(decrypted_account)\n",
        "    #decrypted_customer_name = Customer_private_key.decrypt(customer_name,padding.OAEP(mgf=padding.MGF1(algorithm=hashes.SHA256()),algorithm=hashes.SHA256(),label=None,))\n",
        "\n",
        "    # Extract the details\n",
        "    details = decrypted_account.decode(\"utf-8\").splitlines()\n",
        "\n",
        "    print(\"\\ndetails\", details)\n",
        "    # Verify the details using NIZKP\n",
        "    if NIZKP(details):\n",
        "        print(\"Details verified successfully!\")\n",
        "        # Sign the information with the private key\n",
        "        signature = private_key.sign(\n",
        "           details,\n",
        "            padding.PSS(\n",
        "                mgf=padding.MGF1(hashes.SHA256()),\n",
        "                salt_length=padding.PSS.MAX_LENGTH,\n",
        "            ),\n",
        "            hashes.SHA256(),\n",
        "        )\n",
        "        return signature\n",
        "    else:\n",
        "        print(\"Details verification failed.\")\n",
        "        return None, None\n",
        "\n",
        "# Load private key\n",
        "with open('Customer_private_key.pem', 'rb') as key_file:\n",
        "    customer_private_key = serialization.load_pem_private_key(\n",
        "        key_file.read(),\n",
        "        password=None  # You may need to provide a password if the key is password-protected\n",
        "    )\n",
        "\n",
        "# Example usage\n",
        "filename = \"loan_information.txt\"\n",
        "signature = decrypt_and_verify(filename)\n",
        "\n",
        "if signature:\n",
        "    #print(\"Details:\", details)\n",
        "    print(\"Signature:\", base64.b64encode(signature).decode())\n"
      ],
      "metadata": {
        "colab": {
          "base_uri": "https://localhost:8080/",
          "height": 488
        },
        "id": "YQi5xOxRU-dH",
        "outputId": "a7dacd09-453a-4620-c686-f7024a98d956"
      },
      "execution_count": null,
      "outputs": [
        {
          "output_type": "stream",
          "name": "stdout",
          "text": [
            "b'\\x17\\xc2\\xfaA\\xa2\\x7fA\\xff\\x89\\xd3\\x18\\n\\xc6#\\x1a\\xd7\\x8d2\\xd0ps\\x16{\\xcf\\r[v,\\xcd\\x9f\\xba}\\x13(\\x7f\\x91u\\xac\\x8e\\x05\\x94\\xf9,\\xd33\\xcc\\xe0,F\\x0f\\xc9\\xf3\\xf8{.J\\xf8\\x14\\xc1\\x0e\\xd2\\x83\\xc3\\xf67\\xa3V\\\\l\\xfe,\\x96\\x9b\\xeb\\x8b\\xc2\\xaf\\xe3\\xec\\x8d\\xd1\\xd6J\\xde\\x8c]?\\rs\\x9a\\xa14\\xd1 \\xbf\\xc7A\\x9d?\\xc1\\xf5e\\xa2\\x88\\xab\\x1a\\xc2\\x04\"\\x0f+\\xf91\\ne#GR~+\\xc3;\\x99\"Wc\\x18\\xdf\\x05U\\xfc\\xaa\\x9d\\xf7\\xd6v\\x0eC\\xf9\\x15a17tb\\x86\\xb3_\\xa2o\\xa8\\xf0\\xfc\\x9e\\xe1\\x03\\xa6\\xc1h\\xcf\\xd8\\x1b\\xb2-[LWH\\xcd\\xbcN\\x9c\\xc6\\xbe:bi\\xbf\\xf9jLQ\\x93\\xc2-\\xa5\\xc7\\xf0)\\xc2\\xab6\\xeb-d5\\x1eWZJHA\\xde\\xb1>\\x82\\xc7[[5\\xbc\\xc3\\xc9K\\xd7\\xe9\\x1d\\x1a\\xd0Q\\x8abv\\xa6\\xbd\\xc0L\\xe5\\x0ev\\xb6\\x06\\xf0\\x1e\\x99Q\\xfd^e\"o-\\x13\\xe2vWR\\xaf\\xe4\\xf4g\\xa2\\xef\\xe1\\x10\\x06'\n",
            "b'8032274'\n",
            "\n",
            "details ['8032274']\n"
          ]
        },
        {
          "output_type": "error",
          "ename": "TypeError",
          "evalue": "ignored",
          "traceback": [
            "\u001b[0;31m---------------------------------------------------------------------------\u001b[0m",
            "\u001b[0;31mTypeError\u001b[0m                                 Traceback (most recent call last)",
            "\u001b[0;32m<ipython-input-43-213839887d76>\u001b[0m in \u001b[0;36m<cell line: 58>\u001b[0;34m()\u001b[0m\n\u001b[1;32m     56\u001b[0m \u001b[0;31m# Example usage\u001b[0m\u001b[0;34m\u001b[0m\u001b[0;34m\u001b[0m\u001b[0m\n\u001b[1;32m     57\u001b[0m \u001b[0mfilename\u001b[0m \u001b[0;34m=\u001b[0m \u001b[0;34m\"loan_information.txt\"\u001b[0m\u001b[0;34m\u001b[0m\u001b[0;34m\u001b[0m\u001b[0m\n\u001b[0;32m---> 58\u001b[0;31m \u001b[0msignature\u001b[0m \u001b[0;34m=\u001b[0m \u001b[0mdecrypt_and_verify\u001b[0m\u001b[0;34m(\u001b[0m\u001b[0mfilename\u001b[0m\u001b[0;34m)\u001b[0m\u001b[0;34m\u001b[0m\u001b[0;34m\u001b[0m\u001b[0m\n\u001b[0m\u001b[1;32m     59\u001b[0m \u001b[0;34m\u001b[0m\u001b[0m\n\u001b[1;32m     60\u001b[0m \u001b[0;32mif\u001b[0m \u001b[0msignature\u001b[0m\u001b[0;34m:\u001b[0m\u001b[0;34m\u001b[0m\u001b[0;34m\u001b[0m\u001b[0m\n",
            "\u001b[0;32m<ipython-input-43-213839887d76>\u001b[0m in \u001b[0;36mdecrypt_and_verify\u001b[0;34m(filename)\u001b[0m\n\u001b[1;32m     31\u001b[0m     \u001b[0mprint\u001b[0m\u001b[0;34m(\u001b[0m\u001b[0;34m\"\\ndetails\"\u001b[0m\u001b[0;34m,\u001b[0m \u001b[0mdetails\u001b[0m\u001b[0;34m)\u001b[0m\u001b[0;34m\u001b[0m\u001b[0;34m\u001b[0m\u001b[0m\n\u001b[1;32m     32\u001b[0m     \u001b[0;31m# Verify the details using NIZKP\u001b[0m\u001b[0;34m\u001b[0m\u001b[0;34m\u001b[0m\u001b[0m\n\u001b[0;32m---> 33\u001b[0;31m     \u001b[0;32mif\u001b[0m \u001b[0mNIZKP\u001b[0m\u001b[0;34m(\u001b[0m\u001b[0mdetails\u001b[0m\u001b[0;34m)\u001b[0m\u001b[0;34m:\u001b[0m\u001b[0;34m\u001b[0m\u001b[0;34m\u001b[0m\u001b[0m\n\u001b[0m\u001b[1;32m     34\u001b[0m         \u001b[0mprint\u001b[0m\u001b[0;34m(\u001b[0m\u001b[0;34m\"Details verified successfully!\"\u001b[0m\u001b[0;34m)\u001b[0m\u001b[0;34m\u001b[0m\u001b[0;34m\u001b[0m\u001b[0m\n\u001b[1;32m     35\u001b[0m         \u001b[0;31m# Sign the information with the private key\u001b[0m\u001b[0;34m\u001b[0m\u001b[0;34m\u001b[0m\u001b[0m\n",
            "\u001b[0;32m<ipython-input-12-9e5ee623870f>\u001b[0m in \u001b[0;36mNIZKP\u001b[0;34m(PII)\u001b[0m\n\u001b[1;32m      9\u001b[0m     \u001b[0mgroup\u001b[0m \u001b[0;34m=\u001b[0m \u001b[0mEcGroup\u001b[0m\u001b[0;34m(\u001b[0m\u001b[0;34m)\u001b[0m\u001b[0;34m\u001b[0m\u001b[0;34m\u001b[0m\u001b[0m\n\u001b[1;32m     10\u001b[0m \u001b[0;34m\u001b[0m\u001b[0m\n\u001b[0;32m---> 11\u001b[0;31m     \u001b[0mname\u001b[0m \u001b[0;34m=\u001b[0m \u001b[0mPII\u001b[0m\u001b[0;34m[\u001b[0m\u001b[0;34m\"Name\"\u001b[0m\u001b[0;34m]\u001b[0m\u001b[0;34m\u001b[0m\u001b[0;34m\u001b[0m\u001b[0m\n\u001b[0m\u001b[1;32m     12\u001b[0m     \u001b[0maddress\u001b[0m \u001b[0;34m=\u001b[0m \u001b[0mPII\u001b[0m\u001b[0;34m[\u001b[0m\u001b[0;34m\"Address\"\u001b[0m\u001b[0;34m]\u001b[0m\u001b[0;34m\u001b[0m\u001b[0;34m\u001b[0m\u001b[0m\n\u001b[1;32m     13\u001b[0m     \u001b[0mdateofbirth\u001b[0m \u001b[0;34m=\u001b[0m \u001b[0mPII\u001b[0m\u001b[0;34m[\u001b[0m\u001b[0;34m\"DateOfBirth\"\u001b[0m\u001b[0;34m]\u001b[0m\u001b[0;34m\u001b[0m\u001b[0;34m\u001b[0m\u001b[0m\n",
            "\u001b[0;31mTypeError\u001b[0m: list indices must be integers or slices, not str"
          ]
        }
      ]
    },
    {
      "cell_type": "code",
      "source": [
        "import ast\n",
        "\n",
        "def read_account_number(filename):\n",
        "    with open(filename, \"r\") as file:\n",
        "        data = file.read()\n",
        "\n",
        "    # Extracting the value of the \"Account Number\" field using ast.literal_eval\n",
        "    try:\n",
        "        account_number_str = data.split(\"Account Number:\")[1].split(\"Account Type:\")[0].strip()\n",
        "        account_number = ast.literal_eval(account_number_str)\n",
        "        return account_number\n",
        "    except (IndexError, ValueError, SyntaxError) as e:\n",
        "        print(f\"Error extracting account number: {e}\")\n",
        "        return None\n",
        "\n",
        "# Example usage\n",
        "filename = \"loan_information.txt\"\n",
        "account_number = read_account_number(filename)\n",
        "\n",
        "if account_number:\n",
        "    print(\"Account Number:\", account_number)\n"
      ],
      "metadata": {
        "colab": {
          "base_uri": "https://localhost:8080/"
        },
        "id": "VnSbWdLGff7n",
        "outputId": "86dd670a-114d-44ea-a783-8161b8320338"
      },
      "execution_count": null,
      "outputs": [
        {
          "output_type": "stream",
          "name": "stdout",
          "text": [
            "Account Number: b'i\\x99^&}\\xa6*\\xf1n\\x07\\x85L\\x1e^\\xef\\xf3W\\x1emO\\x7f\\xb4\\xe4)\\x9ch\\xab\\xe6O\\xe3\\x05\\xc5\\x13\\xa1\\xdbT\\x90i\\x9b.\\xb81\\x10\\x15\\x9c\\x1b5~}\\xa6\\xb3\\xfa\\xf1t\\x9b\\x8c\\xc4\\xde\\xd7\\x05@9ayqb\\x80\\x8eam\\x95\\xd4\\xd8\\xaf \\x11/\\x92`?\\xfa\\x90\\xcaAp&\\xa62Eg\\xe1\\xb9\\x85\\x0f+W\\x1b\\xa6_]xGDm\\xc2\\xabV\\xa4\\xd5\\xa8_\"\\xb4C\\xb8\\x18\\xcb\\x13\\x7f\\xb2\\x18N\\x10\\x14\\x8e\\x14\\x15m\\xe4,\\xde{\\xde\\x00Sw\\x18\\x07Kou\\xfa\\xa3\\xb3\\xa2Cj\\xdc\\x07uH\\xceL\\x92\\xb9\\xccS\\xa8\\n\\x06o\\x06\\xa03O\\tq\\xf5\\x83\\xd4C-L\\xbas\\xe9\\xc2\\xa8\\x0b~\\xfd\\x11\\x06<\\x8c\\xff>\\x17\\xa2\\x84\\xe5\\xfc\\xe9\\x1e\\x0c}-wp\\xef\\x13\\x8b\\x8a\\x9d\\xc3\\x80\\xd3wC\\x05\\xd2-<\\\\\\r\\x8cB\\xf2?\\x7fe\\xc9\\xfd\\x96\\xa5\\xcc{\\xf1`zp\\x9a\\xd3\\x14\\rDr=s\\x17v(\\xb4\\x1bQ\\x8aG\\xa1y\\x97\\xb5,nb\\x9c\\xbb'\n"
          ]
        }
      ]
    }
  ]
}